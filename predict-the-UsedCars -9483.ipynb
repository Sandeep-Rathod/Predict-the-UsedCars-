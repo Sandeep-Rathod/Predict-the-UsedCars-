{
 "cells": [
  {
   "cell_type": "markdown",
   "metadata": {
    "colab_type": "text",
    "id": "3g6Xb7vS2mfo"
   },
   "source": [
    "### 1. Dataset Description  <a id='columns'>\n",
    "\n",
    "In this hackathon, you will be predicting the costs of used cars given the data collected from various sources and distributed across various locations in India.\n",
    "\n",
    "Let’s see if your data science skills can help you predict the price of a used car based on a given set of features discussed below.\n",
    "\n",
    "Size of training set: 6,019 records\n",
    "\n",
    "Size of test set: 1,234 records\n",
    "\n",
    "FEATURES:\n",
    "\n",
    "Name: The brand and model of the car.\n",
    "\n",
    "Location: The location in which the car is being sold or is available for purchase.\n",
    "\n",
    "Year: The year or edition of the model.\n",
    "\n",
    "Kilometers_Driven: The total kilometres driven in the car by the previous owner(s) in KM.\n",
    "\n",
    "Fuel_Type: The type of fuel used by the car.\n",
    "\n",
    "Transmission: The type of transmission used by the car.\n",
    "\n",
    "Owner_Type: Whether the ownership is Firsthand, Second hand or other.\n",
    "\n",
    "Mileage: The standard mileage offered by the car company in kmpl or km/kg\n",
    "\n",
    "Engine: The displacement volume of the engine in cc.\n",
    "\n",
    "Power: The maximum power of the engine in bhp.\n",
    "\n",
    "Seats: The number of seats in the car.\n",
    "\n",
    "New_Price: The price of a new car of the same model.\n",
    "\n",
    "Price: The price of the used car in INR Lakhs."
   ]
  },
  {
   "cell_type": "code",
   "execution_count": 1,
   "metadata": {
    "scrolled": true
   },
   "outputs": [
    {
     "name": "stderr",
     "output_type": "stream",
     "text": [
      "C:\\Users\\sandeep.rathod\\AppData\\Local\\Continuum\\anaconda3\\lib\\site-packages\\pandas_profiling\\plot.py:15: UserWarning: \n",
      "This call to matplotlib.use() has no effect because the backend has already\n",
      "been chosen; matplotlib.use() must be called *before* pylab, matplotlib.pyplot,\n",
      "or matplotlib.backends is imported for the first time.\n",
      "\n",
      "The backend was *originally* set to 'module://ipykernel.pylab.backend_inline' by the following code:\n",
      "  File \"C:\\Users\\sandeep.rathod\\AppData\\Local\\Continuum\\anaconda3\\lib\\runpy.py\", line 193, in _run_module_as_main\n",
      "    \"__main__\", mod_spec)\n",
      "  File \"C:\\Users\\sandeep.rathod\\AppData\\Local\\Continuum\\anaconda3\\lib\\runpy.py\", line 85, in _run_code\n",
      "    exec(code, run_globals)\n",
      "  File \"C:\\Users\\sandeep.rathod\\AppData\\Local\\Continuum\\anaconda3\\lib\\site-packages\\ipykernel_launcher.py\", line 16, in <module>\n",
      "    app.launch_new_instance()\n",
      "  File \"C:\\Users\\sandeep.rathod\\AppData\\Local\\Continuum\\anaconda3\\lib\\site-packages\\traitlets\\config\\application.py\", line 658, in launch_instance\n",
      "    app.start()\n",
      "  File \"C:\\Users\\sandeep.rathod\\AppData\\Local\\Continuum\\anaconda3\\lib\\site-packages\\ipykernel\\kernelapp.py\", line 486, in start\n",
      "    self.io_loop.start()\n",
      "  File \"C:\\Users\\sandeep.rathod\\AppData\\Local\\Continuum\\anaconda3\\lib\\site-packages\\tornado\\platform\\asyncio.py\", line 127, in start\n",
      "    self.asyncio_loop.run_forever()\n",
      "  File \"C:\\Users\\sandeep.rathod\\AppData\\Local\\Continuum\\anaconda3\\lib\\asyncio\\base_events.py\", line 422, in run_forever\n",
      "    self._run_once()\n",
      "  File \"C:\\Users\\sandeep.rathod\\AppData\\Local\\Continuum\\anaconda3\\lib\\asyncio\\base_events.py\", line 1432, in _run_once\n",
      "    handle._run()\n",
      "  File \"C:\\Users\\sandeep.rathod\\AppData\\Local\\Continuum\\anaconda3\\lib\\asyncio\\events.py\", line 145, in _run\n",
      "    self._callback(*self._args)\n",
      "  File \"C:\\Users\\sandeep.rathod\\AppData\\Local\\Continuum\\anaconda3\\lib\\site-packages\\tornado\\platform\\asyncio.py\", line 117, in _handle_events\n",
      "    handler_func(fileobj, events)\n",
      "  File \"C:\\Users\\sandeep.rathod\\AppData\\Local\\Continuum\\anaconda3\\lib\\site-packages\\tornado\\stack_context.py\", line 276, in null_wrapper\n",
      "    return fn(*args, **kwargs)\n",
      "  File \"C:\\Users\\sandeep.rathod\\AppData\\Local\\Continuum\\anaconda3\\lib\\site-packages\\zmq\\eventloop\\zmqstream.py\", line 450, in _handle_events\n",
      "    self._handle_recv()\n",
      "  File \"C:\\Users\\sandeep.rathod\\AppData\\Local\\Continuum\\anaconda3\\lib\\site-packages\\zmq\\eventloop\\zmqstream.py\", line 480, in _handle_recv\n",
      "    self._run_callback(callback, msg)\n",
      "  File \"C:\\Users\\sandeep.rathod\\AppData\\Local\\Continuum\\anaconda3\\lib\\site-packages\\zmq\\eventloop\\zmqstream.py\", line 432, in _run_callback\n",
      "    callback(*args, **kwargs)\n",
      "  File \"C:\\Users\\sandeep.rathod\\AppData\\Local\\Continuum\\anaconda3\\lib\\site-packages\\tornado\\stack_context.py\", line 276, in null_wrapper\n",
      "    return fn(*args, **kwargs)\n",
      "  File \"C:\\Users\\sandeep.rathod\\AppData\\Local\\Continuum\\anaconda3\\lib\\site-packages\\ipykernel\\kernelbase.py\", line 283, in dispatcher\n",
      "    return self.dispatch_shell(stream, msg)\n",
      "  File \"C:\\Users\\sandeep.rathod\\AppData\\Local\\Continuum\\anaconda3\\lib\\site-packages\\ipykernel\\kernelbase.py\", line 233, in dispatch_shell\n",
      "    handler(stream, idents, msg)\n",
      "  File \"C:\\Users\\sandeep.rathod\\AppData\\Local\\Continuum\\anaconda3\\lib\\site-packages\\ipykernel\\kernelbase.py\", line 399, in execute_request\n",
      "    user_expressions, allow_stdin)\n",
      "  File \"C:\\Users\\sandeep.rathod\\AppData\\Local\\Continuum\\anaconda3\\lib\\site-packages\\ipykernel\\ipkernel.py\", line 208, in do_execute\n",
      "    res = shell.run_cell(code, store_history=store_history, silent=silent)\n",
      "  File \"C:\\Users\\sandeep.rathod\\AppData\\Local\\Continuum\\anaconda3\\lib\\site-packages\\ipykernel\\zmqshell.py\", line 537, in run_cell\n",
      "    return super(ZMQInteractiveShell, self).run_cell(*args, **kwargs)\n",
      "  File \"C:\\Users\\sandeep.rathod\\AppData\\Local\\Continuum\\anaconda3\\lib\\site-packages\\IPython\\core\\interactiveshell.py\", line 2662, in run_cell\n",
      "    raw_cell, store_history, silent, shell_futures)\n",
      "  File \"C:\\Users\\sandeep.rathod\\AppData\\Local\\Continuum\\anaconda3\\lib\\site-packages\\IPython\\core\\interactiveshell.py\", line 2785, in _run_cell\n",
      "    interactivity=interactivity, compiler=compiler, result=result)\n",
      "  File \"C:\\Users\\sandeep.rathod\\AppData\\Local\\Continuum\\anaconda3\\lib\\site-packages\\IPython\\core\\interactiveshell.py\", line 2903, in run_ast_nodes\n",
      "    if self.run_code(code, result):\n",
      "  File \"C:\\Users\\sandeep.rathod\\AppData\\Local\\Continuum\\anaconda3\\lib\\site-packages\\IPython\\core\\interactiveshell.py\", line 2963, in run_code\n",
      "    exec(code_obj, self.user_global_ns, self.user_ns)\n",
      "  File \"<ipython-input-1-1531cf384148>\", line 6, in <module>\n",
      "    get_ipython().run_line_magic('matplotlib', 'inline')\n",
      "  File \"C:\\Users\\sandeep.rathod\\AppData\\Local\\Continuum\\anaconda3\\lib\\site-packages\\IPython\\core\\interactiveshell.py\", line 2131, in run_line_magic\n",
      "    result = fn(*args,**kwargs)\n",
      "  File \"<decorator-gen-108>\", line 2, in matplotlib\n",
      "  File \"C:\\Users\\sandeep.rathod\\AppData\\Local\\Continuum\\anaconda3\\lib\\site-packages\\IPython\\core\\magic.py\", line 187, in <lambda>\n",
      "    call = lambda f, *a, **k: f(*a, **k)\n",
      "  File \"C:\\Users\\sandeep.rathod\\AppData\\Local\\Continuum\\anaconda3\\lib\\site-packages\\IPython\\core\\magics\\pylab.py\", line 99, in matplotlib\n",
      "    gui, backend = self.shell.enable_matplotlib(args.gui)\n",
      "  File \"C:\\Users\\sandeep.rathod\\AppData\\Local\\Continuum\\anaconda3\\lib\\site-packages\\IPython\\core\\interactiveshell.py\", line 3051, in enable_matplotlib\n",
      "    pt.activate_matplotlib(backend)\n",
      "  File \"C:\\Users\\sandeep.rathod\\AppData\\Local\\Continuum\\anaconda3\\lib\\site-packages\\IPython\\core\\pylabtools.py\", line 311, in activate_matplotlib\n",
      "    matplotlib.pyplot.switch_backend(backend)\n",
      "  File \"C:\\Users\\sandeep.rathod\\AppData\\Local\\Continuum\\anaconda3\\lib\\site-packages\\matplotlib\\pyplot.py\", line 231, in switch_backend\n",
      "    matplotlib.use(newbackend, warn=False, force=True)\n",
      "  File \"C:\\Users\\sandeep.rathod\\AppData\\Local\\Continuum\\anaconda3\\lib\\site-packages\\matplotlib\\__init__.py\", line 1410, in use\n",
      "    reload(sys.modules['matplotlib.backends'])\n",
      "  File \"C:\\Users\\sandeep.rathod\\AppData\\Local\\Continuum\\anaconda3\\lib\\importlib\\__init__.py\", line 166, in reload\n",
      "    _bootstrap._exec(spec, module)\n",
      "  File \"C:\\Users\\sandeep.rathod\\AppData\\Local\\Continuum\\anaconda3\\lib\\site-packages\\matplotlib\\backends\\__init__.py\", line 16, in <module>\n",
      "    line for line in traceback.format_stack()\n",
      "\n",
      "\n",
      "  matplotlib.use(BACKEND)\n"
     ]
    }
   ],
   "source": [
    "import numpy as np\n",
    "import pandas as pd\n",
    "\n",
    "from matplotlib import pyplot as plt\n",
    "import matplotlib\n",
    "%matplotlib inline\n",
    "import seaborn as sns\n",
    "import pandas_profiling\n",
    "matplotlib.rc('xtick', labelsize=20) \n",
    "matplotlib.rc('ytick', labelsize=20)\n",
    "from sklearn.model_selection import train_test_split\n",
    "from sklearn.linear_model import SGDClassifier\n",
    "from sklearn.metrics import f1_score, log_loss\n",
    "from sklearn.neural_network import MLPClassifier\n",
    "from sklearn.neighbors import KNeighborsClassifier\n",
    "from sklearn.svm import SVC\n",
    "from sklearn.gaussian_process.kernels import RBF\n",
    "from sklearn.ensemble import RandomForestClassifier, AdaBoostClassifier\n",
    "from sklearn.naive_bayes import GaussianNB\n",
    "from xgboost.sklearn import XGBClassifier\n",
    "from sklearn.ensemble import ExtraTreesClassifier\n",
    "from sklearn.model_selection import GridSearchCV\n",
    "from sklearn.ensemble import BaggingClassifier\n",
    "from sklearn.model_selection import KFold\n",
    "from sklearn import metrics\n",
    "from sklearn.feature_selection import SelectKBest \n",
    "from sklearn.feature_selection import chi2\n",
    "import collections\n",
    "import warnings\n",
    "warnings.filterwarnings('ignore')\n",
    "%matplotlib inline\n",
    "from collections import Counter\n"
   ]
  },
  {
   "cell_type": "code",
   "execution_count": 2,
   "metadata": {},
   "outputs": [],
   "source": [
    "from IPython.core.interactiveshell import InteractiveShell\n",
    "InteractiveShell.ast_mode_interactivity = \"all\""
   ]
  },
  {
   "cell_type": "code",
   "execution_count": 3,
   "metadata": {
    "scrolled": false
   },
   "outputs": [],
   "source": [
    "x1=pd.ExcelFile(r'Data_Train.xlsx')\n",
    "x2=pd.ExcelFile(r'Data_Test.xlsx')"
   ]
  },
  {
   "cell_type": "code",
   "execution_count": 4,
   "metadata": {},
   "outputs": [
    {
     "data": {
      "text/plain": [
       "['Sheet1']"
      ]
     },
     "execution_count": 4,
     "metadata": {},
     "output_type": "execute_result"
    }
   ],
   "source": [
    "x1.sheet_names"
   ]
  },
  {
   "cell_type": "markdown",
   "metadata": {},
   "source": [
    "### create a list of six columns\n",
    "\n",
    "1. Name\n",
    "2. Location\n",
    "3. Year\n",
    "4. Kilometers_Driven\n",
    "5. Fuel_Type\n",
    "6. Transmission\n",
    "7. Owner_Type\n",
    "8. Mileage\n",
    "9. Engine\n",
    "10. Power\n",
    "11. Seats\n",
    "12. New_Price\n",
    "13. Price"
   ]
  },
  {
   "cell_type": "code",
   "execution_count": 5,
   "metadata": {},
   "outputs": [],
   "source": [
    "# Define the columns to be read"
   ]
  },
  {
   "cell_type": "code",
   "execution_count": 6,
   "metadata": {},
   "outputs": [],
   "source": [
    "columns_read=['Name','Location','Year','Kilometers_Driven','Fuel_Type','Transmission','Owner_Type','Mileage','Engine','Power'\n",
    "             ,'Seats','New_Price','Price']\n",
    "columns_readt=['Name','Location','Year','Kilometers_Driven','Fuel_Type','Transmission','Owner_Type','Mileage','Engine','Power'\n",
    "             ,'Seats','New_Price']"
   ]
  },
  {
   "cell_type": "markdown",
   "metadata": {},
   "source": [
    "### parse the data and read the six columns present in  sheet of data and skip first six rows and set skipfooter=14 and the column names as the list defined above"
   ]
  },
  {
   "cell_type": "code",
   "execution_count": 7,
   "metadata": {
    "scrolled": true
   },
   "outputs": [
    {
     "data": {
      "text/html": [
       "<div>\n",
       "<style scoped>\n",
       "    .dataframe tbody tr th:only-of-type {\n",
       "        vertical-align: middle;\n",
       "    }\n",
       "\n",
       "    .dataframe tbody tr th {\n",
       "        vertical-align: top;\n",
       "    }\n",
       "\n",
       "    .dataframe thead th {\n",
       "        text-align: right;\n",
       "    }\n",
       "</style>\n",
       "<table border=\"1\" class=\"dataframe\">\n",
       "  <thead>\n",
       "    <tr style=\"text-align: right;\">\n",
       "      <th></th>\n",
       "      <th>Name</th>\n",
       "      <th>Location</th>\n",
       "      <th>Year</th>\n",
       "      <th>Kilometers_Driven</th>\n",
       "      <th>Fuel_Type</th>\n",
       "      <th>Transmission</th>\n",
       "      <th>Owner_Type</th>\n",
       "      <th>Mileage</th>\n",
       "      <th>Engine</th>\n",
       "      <th>Power</th>\n",
       "      <th>Seats</th>\n",
       "      <th>New_Price</th>\n",
       "      <th>Price</th>\n",
       "    </tr>\n",
       "  </thead>\n",
       "  <tbody>\n",
       "    <tr>\n",
       "      <th>0</th>\n",
       "      <td>Maruti Wagon R LXI CNG</td>\n",
       "      <td>Mumbai</td>\n",
       "      <td>2010</td>\n",
       "      <td>72000</td>\n",
       "      <td>CNG</td>\n",
       "      <td>Manual</td>\n",
       "      <td>First</td>\n",
       "      <td>26.6 km/kg</td>\n",
       "      <td>998 CC</td>\n",
       "      <td>58.16 bhp</td>\n",
       "      <td>5.0</td>\n",
       "      <td>NaN</td>\n",
       "      <td>1.75</td>\n",
       "    </tr>\n",
       "    <tr>\n",
       "      <th>1</th>\n",
       "      <td>Hyundai Creta 1.6 CRDi SX Option</td>\n",
       "      <td>Pune</td>\n",
       "      <td>2015</td>\n",
       "      <td>41000</td>\n",
       "      <td>Diesel</td>\n",
       "      <td>Manual</td>\n",
       "      <td>First</td>\n",
       "      <td>19.67 kmpl</td>\n",
       "      <td>1582 CC</td>\n",
       "      <td>126.2 bhp</td>\n",
       "      <td>5.0</td>\n",
       "      <td>NaN</td>\n",
       "      <td>12.50</td>\n",
       "    </tr>\n",
       "    <tr>\n",
       "      <th>2</th>\n",
       "      <td>Honda Jazz V</td>\n",
       "      <td>Chennai</td>\n",
       "      <td>2011</td>\n",
       "      <td>46000</td>\n",
       "      <td>Petrol</td>\n",
       "      <td>Manual</td>\n",
       "      <td>First</td>\n",
       "      <td>18.2 kmpl</td>\n",
       "      <td>1199 CC</td>\n",
       "      <td>88.7 bhp</td>\n",
       "      <td>5.0</td>\n",
       "      <td>8.61 Lakh</td>\n",
       "      <td>4.50</td>\n",
       "    </tr>\n",
       "    <tr>\n",
       "      <th>3</th>\n",
       "      <td>Maruti Ertiga VDI</td>\n",
       "      <td>Chennai</td>\n",
       "      <td>2012</td>\n",
       "      <td>87000</td>\n",
       "      <td>Diesel</td>\n",
       "      <td>Manual</td>\n",
       "      <td>First</td>\n",
       "      <td>20.77 kmpl</td>\n",
       "      <td>1248 CC</td>\n",
       "      <td>88.76 bhp</td>\n",
       "      <td>7.0</td>\n",
       "      <td>NaN</td>\n",
       "      <td>6.00</td>\n",
       "    </tr>\n",
       "    <tr>\n",
       "      <th>4</th>\n",
       "      <td>Audi A4 New 2.0 TDI Multitronic</td>\n",
       "      <td>Coimbatore</td>\n",
       "      <td>2013</td>\n",
       "      <td>40670</td>\n",
       "      <td>Diesel</td>\n",
       "      <td>Automatic</td>\n",
       "      <td>Second</td>\n",
       "      <td>15.2 kmpl</td>\n",
       "      <td>1968 CC</td>\n",
       "      <td>140.8 bhp</td>\n",
       "      <td>5.0</td>\n",
       "      <td>NaN</td>\n",
       "      <td>17.74</td>\n",
       "    </tr>\n",
       "  </tbody>\n",
       "</table>\n",
       "</div>"
      ],
      "text/plain": [
       "                               Name    Location  Year  Kilometers_Driven  \\\n",
       "0            Maruti Wagon R LXI CNG      Mumbai  2010              72000   \n",
       "1  Hyundai Creta 1.6 CRDi SX Option        Pune  2015              41000   \n",
       "2                      Honda Jazz V     Chennai  2011              46000   \n",
       "3                 Maruti Ertiga VDI     Chennai  2012              87000   \n",
       "4   Audi A4 New 2.0 TDI Multitronic  Coimbatore  2013              40670   \n",
       "\n",
       "  Fuel_Type Transmission Owner_Type     Mileage   Engine      Power  Seats  \\\n",
       "0       CNG       Manual      First  26.6 km/kg   998 CC  58.16 bhp    5.0   \n",
       "1    Diesel       Manual      First  19.67 kmpl  1582 CC  126.2 bhp    5.0   \n",
       "2    Petrol       Manual      First   18.2 kmpl  1199 CC   88.7 bhp    5.0   \n",
       "3    Diesel       Manual      First  20.77 kmpl  1248 CC  88.76 bhp    7.0   \n",
       "4    Diesel    Automatic     Second   15.2 kmpl  1968 CC  140.8 bhp    5.0   \n",
       "\n",
       "   New_Price  Price  \n",
       "0        NaN   1.75  \n",
       "1        NaN  12.50  \n",
       "2  8.61 Lakh   4.50  \n",
       "3        NaN   6.00  \n",
       "4        NaN  17.74  "
      ]
     },
     "execution_count": 7,
     "metadata": {},
     "output_type": "execute_result"
    }
   ],
   "source": [
    "ds_input = x1.parse(u'Sheet1',names=columns_read)\n",
    "ds_input.head()"
   ]
  },
  {
   "cell_type": "code",
   "execution_count": 8,
   "metadata": {
    "scrolled": false
   },
   "outputs": [
    {
     "data": {
      "text/html": [
       "<div>\n",
       "<style scoped>\n",
       "    .dataframe tbody tr th:only-of-type {\n",
       "        vertical-align: middle;\n",
       "    }\n",
       "\n",
       "    .dataframe tbody tr th {\n",
       "        vertical-align: top;\n",
       "    }\n",
       "\n",
       "    .dataframe thead th {\n",
       "        text-align: right;\n",
       "    }\n",
       "</style>\n",
       "<table border=\"1\" class=\"dataframe\">\n",
       "  <thead>\n",
       "    <tr style=\"text-align: right;\">\n",
       "      <th></th>\n",
       "      <th>Name</th>\n",
       "      <th>Location</th>\n",
       "      <th>Year</th>\n",
       "      <th>Kilometers_Driven</th>\n",
       "      <th>Fuel_Type</th>\n",
       "      <th>Transmission</th>\n",
       "      <th>Owner_Type</th>\n",
       "      <th>Mileage</th>\n",
       "      <th>Engine</th>\n",
       "      <th>Power</th>\n",
       "      <th>Seats</th>\n",
       "      <th>New_Price</th>\n",
       "    </tr>\n",
       "  </thead>\n",
       "  <tbody>\n",
       "    <tr>\n",
       "      <th>0</th>\n",
       "      <td>Maruti Alto K10 LXI CNG</td>\n",
       "      <td>Delhi</td>\n",
       "      <td>2014</td>\n",
       "      <td>40929</td>\n",
       "      <td>CNG</td>\n",
       "      <td>Manual</td>\n",
       "      <td>First</td>\n",
       "      <td>32.26 km/kg</td>\n",
       "      <td>998 CC</td>\n",
       "      <td>58.2 bhp</td>\n",
       "      <td>4.0</td>\n",
       "      <td>NaN</td>\n",
       "    </tr>\n",
       "    <tr>\n",
       "      <th>1</th>\n",
       "      <td>Maruti Alto 800 2016-2019 LXI</td>\n",
       "      <td>Coimbatore</td>\n",
       "      <td>2013</td>\n",
       "      <td>54493</td>\n",
       "      <td>Petrol</td>\n",
       "      <td>Manual</td>\n",
       "      <td>Second</td>\n",
       "      <td>24.7 kmpl</td>\n",
       "      <td>796 CC</td>\n",
       "      <td>47.3 bhp</td>\n",
       "      <td>5.0</td>\n",
       "      <td>NaN</td>\n",
       "    </tr>\n",
       "    <tr>\n",
       "      <th>2</th>\n",
       "      <td>Toyota Innova Crysta Touring Sport 2.4 MT</td>\n",
       "      <td>Mumbai</td>\n",
       "      <td>2017</td>\n",
       "      <td>34000</td>\n",
       "      <td>Diesel</td>\n",
       "      <td>Manual</td>\n",
       "      <td>First</td>\n",
       "      <td>13.68 kmpl</td>\n",
       "      <td>2393 CC</td>\n",
       "      <td>147.8 bhp</td>\n",
       "      <td>7.0</td>\n",
       "      <td>25.27 Lakh</td>\n",
       "    </tr>\n",
       "    <tr>\n",
       "      <th>3</th>\n",
       "      <td>Toyota Etios Liva GD</td>\n",
       "      <td>Hyderabad</td>\n",
       "      <td>2012</td>\n",
       "      <td>139000</td>\n",
       "      <td>Diesel</td>\n",
       "      <td>Manual</td>\n",
       "      <td>First</td>\n",
       "      <td>23.59 kmpl</td>\n",
       "      <td>1364 CC</td>\n",
       "      <td>null bhp</td>\n",
       "      <td>5.0</td>\n",
       "      <td>NaN</td>\n",
       "    </tr>\n",
       "    <tr>\n",
       "      <th>4</th>\n",
       "      <td>Hyundai i20 Magna</td>\n",
       "      <td>Mumbai</td>\n",
       "      <td>2014</td>\n",
       "      <td>29000</td>\n",
       "      <td>Petrol</td>\n",
       "      <td>Manual</td>\n",
       "      <td>First</td>\n",
       "      <td>18.5 kmpl</td>\n",
       "      <td>1197 CC</td>\n",
       "      <td>82.85 bhp</td>\n",
       "      <td>5.0</td>\n",
       "      <td>NaN</td>\n",
       "    </tr>\n",
       "  </tbody>\n",
       "</table>\n",
       "</div>"
      ],
      "text/plain": [
       "                                        Name    Location  Year  \\\n",
       "0                    Maruti Alto K10 LXI CNG       Delhi  2014   \n",
       "1              Maruti Alto 800 2016-2019 LXI  Coimbatore  2013   \n",
       "2  Toyota Innova Crysta Touring Sport 2.4 MT      Mumbai  2017   \n",
       "3                       Toyota Etios Liva GD   Hyderabad  2012   \n",
       "4                          Hyundai i20 Magna      Mumbai  2014   \n",
       "\n",
       "   Kilometers_Driven Fuel_Type Transmission Owner_Type      Mileage   Engine  \\\n",
       "0              40929       CNG       Manual      First  32.26 km/kg   998 CC   \n",
       "1              54493    Petrol       Manual     Second    24.7 kmpl   796 CC   \n",
       "2              34000    Diesel       Manual      First   13.68 kmpl  2393 CC   \n",
       "3             139000    Diesel       Manual      First   23.59 kmpl  1364 CC   \n",
       "4              29000    Petrol       Manual      First    18.5 kmpl  1197 CC   \n",
       "\n",
       "       Power  Seats   New_Price  \n",
       "0   58.2 bhp    4.0         NaN  \n",
       "1   47.3 bhp    5.0         NaN  \n",
       "2  147.8 bhp    7.0  25.27 Lakh  \n",
       "3   null bhp    5.0         NaN  \n",
       "4  82.85 bhp    5.0         NaN  "
      ]
     },
     "execution_count": 8,
     "metadata": {},
     "output_type": "execute_result"
    }
   ],
   "source": [
    "dst_input = x2.parse(u'Sheet1',names=columns_readt)\n",
    "dst_input.head()"
   ]
  },
  {
   "cell_type": "code",
   "execution_count": 9,
   "metadata": {
    "scrolled": true
   },
   "outputs": [],
   "source": [
    "#report = pandas_profiling.ProfileReport(ds_input)\n",
    "#covert profile report as html file\n",
    "#report.to_file(\"ds_input.html\")"
   ]
  },
  {
   "cell_type": "code",
   "execution_count": 10,
   "metadata": {
    "scrolled": false
   },
   "outputs": [
    {
     "name": "stdout",
     "output_type": "stream",
     "text": [
      "<class 'pandas.core.frame.DataFrame'>\n",
      "RangeIndex: 6019 entries, 0 to 6018\n",
      "Data columns (total 13 columns):\n",
      "Name                 6019 non-null object\n",
      "Location             6019 non-null object\n",
      "Year                 6019 non-null int64\n",
      "Kilometers_Driven    6019 non-null int64\n",
      "Fuel_Type            6019 non-null object\n",
      "Transmission         6019 non-null object\n",
      "Owner_Type           6019 non-null object\n",
      "Mileage              6017 non-null object\n",
      "Engine               5983 non-null object\n",
      "Power                5983 non-null object\n",
      "Seats                5977 non-null float64\n",
      "New_Price            824 non-null object\n",
      "Price                6019 non-null float64\n",
      "dtypes: float64(2), int64(2), object(9)\n",
      "memory usage: 611.4+ KB\n"
     ]
    }
   ],
   "source": [
    " ds_input.info()"
   ]
  },
  {
   "cell_type": "code",
   "execution_count": 11,
   "metadata": {},
   "outputs": [
    {
     "name": "stdout",
     "output_type": "stream",
     "text": [
      "<class 'pandas.core.frame.DataFrame'>\n",
      "RangeIndex: 1234 entries, 0 to 1233\n",
      "Data columns (total 12 columns):\n",
      "Name                 1234 non-null object\n",
      "Location             1234 non-null object\n",
      "Year                 1234 non-null int64\n",
      "Kilometers_Driven    1234 non-null int64\n",
      "Fuel_Type            1234 non-null object\n",
      "Transmission         1234 non-null object\n",
      "Owner_Type           1234 non-null object\n",
      "Mileage              1234 non-null object\n",
      "Engine               1224 non-null object\n",
      "Power                1224 non-null object\n",
      "Seats                1223 non-null float64\n",
      "New_Price            182 non-null object\n",
      "dtypes: float64(1), int64(2), object(9)\n",
      "memory usage: 115.8+ KB\n"
     ]
    }
   ],
   "source": [
    "dst_input.info()"
   ]
  },
  {
   "cell_type": "code",
   "execution_count": 12,
   "metadata": {},
   "outputs": [
    {
     "name": "stdout",
     "output_type": "stream",
     "text": [
      "<class 'pandas.core.frame.DataFrame'>\n",
      "Int64Index: 6019 entries, 0 to 6018\n",
      "Data columns (total 13 columns):\n",
      "Name                 6019 non-null object\n",
      "Location             6019 non-null object\n",
      "Year                 6019 non-null int64\n",
      "Kilometers_Driven    6019 non-null int64\n",
      "Fuel_Type            6019 non-null object\n",
      "Transmission         6019 non-null object\n",
      "Owner_Type           6019 non-null object\n",
      "Mileage              6017 non-null object\n",
      "Engine               5983 non-null object\n",
      "Power                5983 non-null object\n",
      "Seats                5977 non-null float64\n",
      "New_Price            824 non-null object\n",
      "Price                6019 non-null float64\n",
      "dtypes: float64(2), int64(2), object(9)\n",
      "memory usage: 658.3+ KB\n"
     ]
    }
   ],
   "source": [
    "#check duplicates\n",
    "ds_input =ds_input.drop_duplicates()\n",
    "ds_input.info()"
   ]
  },
  {
   "cell_type": "code",
   "execution_count": 13,
   "metadata": {},
   "outputs": [],
   "source": [
    "#combining the train and test \n",
    "y_train = ds_input['Price']\n",
    "train_nomissing = ds_input.drop('Price',axis=1)\n",
    "test_nomissing = dst_input\n",
    "combined_set = pd.concat([train_nomissing, test_nomissing], axis = 0) # Stacks them vertically"
   ]
  },
  {
   "cell_type": "code",
   "execution_count": 14,
   "metadata": {
    "scrolled": false
   },
   "outputs": [
    {
     "name": "stdout",
     "output_type": "stream",
     "text": [
      "<class 'pandas.core.frame.DataFrame'>\n",
      "Int64Index: 7253 entries, 0 to 1233\n",
      "Data columns (total 12 columns):\n",
      "Name                 7253 non-null object\n",
      "Location             7253 non-null object\n",
      "Year                 7253 non-null int64\n",
      "Kilometers_Driven    7253 non-null int64\n",
      "Fuel_Type            7253 non-null object\n",
      "Transmission         7253 non-null object\n",
      "Owner_Type           7253 non-null object\n",
      "Mileage              7251 non-null object\n",
      "Engine               7207 non-null object\n",
      "Power                7207 non-null object\n",
      "Seats                7200 non-null float64\n",
      "New_Price            1006 non-null object\n",
      "dtypes: float64(1), int64(2), object(9)\n",
      "memory usage: 736.6+ KB\n"
     ]
    }
   ],
   "source": [
    " combined_set.info()"
   ]
  },
  {
   "cell_type": "markdown",
   "metadata": {
    "scrolled": true
   },
   "source": [
    "#dropping  null places row.\n",
    "ds_input.drop(ds_input[ds_input['Place'].isnull()].index.tolist(),inplace=True)\n",
    "dst_input.drop(dst_input[dst_input['Place'].isnull()].index.tolist(),inplace=True)"
   ]
  },
  {
   "cell_type": "code",
   "execution_count": 15,
   "metadata": {},
   "outputs": [],
   "source": [
    "combined_set[\"Power\"] = combined_set[\"Power\"].str.replace('null bhp','0 bhp')\n",
    "combined_set[\"Power\"].fillna('0 bhp',inplace=True)\n",
    "\n",
    "combined_set[\"Mileage\"].fillna('0.0 kmpl',inplace=True)\n",
    "\n",
    "\n",
    "#Seats\n",
    "combined_set[\"Engine\"].fillna('0 CC',inplace=True)\n",
    "\n",
    "combined_set[\"Seats\"].fillna(0,inplace=True)\n"
   ]
  },
  {
   "cell_type": "code",
   "execution_count": 16,
   "metadata": {},
   "outputs": [],
   "source": [
    "#spliting mileage\n",
    "ds_mil = combined_set[\"Mileage\"].str.split(\" \",n=1,expand=True)\n",
    "ds_mil1 = ds_mil[0].str.split(\".\",n=1,expand=True)\n",
    "combined_set[\"Mileage\"]=ds_mil1[0].astype(str).astype(int)\n",
    "#combined_set[\"Mileage\"]=combined_set[\"Mileage\"].str.replace('0','')"
   ]
  },
  {
   "cell_type": "code",
   "execution_count": 17,
   "metadata": {},
   "outputs": [],
   "source": [
    "ds_eng = combined_set[\"Engine\"].str.split(\" \",n=1,expand=True)\n",
    "combined_set[\"Engine\"]=ds_eng[0].astype(str).astype(int)\n",
    "#combined_set[\"Engine\"]=combined_set[\"Engine\"].str.replace('0','')"
   ]
  },
  {
   "cell_type": "code",
   "execution_count": 18,
   "metadata": {},
   "outputs": [],
   "source": [
    "ds_pwr = combined_set[\"Power\"].str.split(\" \",n=1,expand=True)\n",
    "ds_pwr1 = ds_pwr[0].str.split(\".\",n=1,expand=True)\n",
    "\n",
    "combined_set[\"Power\"]=ds_pwr1[0].astype(str).astype(int)\n",
    "#combined_set[\"Power\"]=combined_set[\"Power\"].str.replace('0','')"
   ]
  },
  {
   "cell_type": "code",
   "execution_count": 19,
   "metadata": {},
   "outputs": [],
   "source": [
    "combined_set[\"New_Price\"]= combined_set[\"New_Price\"].replace(np.nan,'0 Lakh')"
   ]
  },
  {
   "cell_type": "code",
   "execution_count": 20,
   "metadata": {},
   "outputs": [],
   "source": [
    "ds_prc = combined_set[\"New_Price\"].str.split(\" \",n=1,expand=True)"
   ]
  },
  {
   "cell_type": "code",
   "execution_count": 21,
   "metadata": {},
   "outputs": [],
   "source": [
    "combined_set[\"cur\"]=ds_prc[1].astype(str)"
   ]
  },
  {
   "cell_type": "code",
   "execution_count": 22,
   "metadata": {},
   "outputs": [],
   "source": [
    "ds_prc1 = ds_prc[0].str.split(\".\",n=1,expand=True)\n",
    "\n",
    "combined_set[\"New_Price\"]=ds_prc1[0].astype(str).astype(int)"
   ]
  },
  {
   "cell_type": "code",
   "execution_count": 23,
   "metadata": {},
   "outputs": [],
   "source": [
    "def cal_cur(val_cur):\n",
    "    val,cur = val_cur\n",
    "    if cur=='Cr':\n",
    "        val = val*100\n",
    "    return val\n",
    "\n",
    "combined_set[\"New_Price\"] = combined_set[[\"New_Price\",'cur']].apply(cal_cur, axis=1)"
   ]
  },
  {
   "cell_type": "code",
   "execution_count": 24,
   "metadata": {},
   "outputs": [],
   "source": [
    "combined_set[\"Name2\"]=combined_set[\"Name\"].apply(lambda x:' '.join(x.split()[:2]))"
   ]
  },
  {
   "cell_type": "code",
   "execution_count": 25,
   "metadata": {},
   "outputs": [],
   "source": [
    "combined_set[\"Name1\"]=combined_set[\"Name\"].apply(lambda x:' '.join(x.split()[:1]))"
   ]
  },
  {
   "cell_type": "code",
   "execution_count": 26,
   "metadata": {
    "scrolled": false
   },
   "outputs": [],
   "source": [
    "combined_set['Name2'] = combined_set['Name2'].apply(lambda x: \" \".join(x.lower() for x in x.split()))\n",
    "combined_set['Name'] = combined_set['Name'].apply(lambda x: \" \".join(x.lower() for x in x.split()))\n",
    "combined_set['Name1'] = combined_set['Name1'].apply(lambda x: \" \".join(x.lower() for x in x.split()))\n"
   ]
  },
  {
   "cell_type": "code",
   "execution_count": 27,
   "metadata": {},
   "outputs": [
    {
     "data": {
      "text/html": [
       "<div>\n",
       "<style scoped>\n",
       "    .dataframe tbody tr th:only-of-type {\n",
       "        vertical-align: middle;\n",
       "    }\n",
       "\n",
       "    .dataframe tbody tr th {\n",
       "        vertical-align: top;\n",
       "    }\n",
       "\n",
       "    .dataframe thead th {\n",
       "        text-align: right;\n",
       "    }\n",
       "</style>\n",
       "<table border=\"1\" class=\"dataframe\">\n",
       "  <thead>\n",
       "    <tr style=\"text-align: right;\">\n",
       "      <th></th>\n",
       "      <th>Name</th>\n",
       "      <th>Location</th>\n",
       "      <th>Year</th>\n",
       "      <th>Kilometers_Driven</th>\n",
       "      <th>Fuel_Type</th>\n",
       "      <th>Transmission</th>\n",
       "      <th>Owner_Type</th>\n",
       "      <th>Mileage</th>\n",
       "      <th>Engine</th>\n",
       "      <th>Power</th>\n",
       "      <th>Seats</th>\n",
       "      <th>New_Price</th>\n",
       "      <th>cur</th>\n",
       "      <th>Name2</th>\n",
       "      <th>Name1</th>\n",
       "    </tr>\n",
       "  </thead>\n",
       "  <tbody>\n",
       "    <tr>\n",
       "      <th>0</th>\n",
       "      <td>maruti wagon r lxi cng</td>\n",
       "      <td>Mumbai</td>\n",
       "      <td>2010</td>\n",
       "      <td>72000</td>\n",
       "      <td>CNG</td>\n",
       "      <td>Manual</td>\n",
       "      <td>First</td>\n",
       "      <td>26</td>\n",
       "      <td>998</td>\n",
       "      <td>58</td>\n",
       "      <td>5.0</td>\n",
       "      <td>0</td>\n",
       "      <td>Lakh</td>\n",
       "      <td>maruti wagon</td>\n",
       "      <td>maruti</td>\n",
       "    </tr>\n",
       "    <tr>\n",
       "      <th>1</th>\n",
       "      <td>hyundai creta 1.6 crdi sx option</td>\n",
       "      <td>Pune</td>\n",
       "      <td>2015</td>\n",
       "      <td>41000</td>\n",
       "      <td>Diesel</td>\n",
       "      <td>Manual</td>\n",
       "      <td>First</td>\n",
       "      <td>19</td>\n",
       "      <td>1582</td>\n",
       "      <td>126</td>\n",
       "      <td>5.0</td>\n",
       "      <td>0</td>\n",
       "      <td>Lakh</td>\n",
       "      <td>hyundai creta</td>\n",
       "      <td>hyundai</td>\n",
       "    </tr>\n",
       "    <tr>\n",
       "      <th>2</th>\n",
       "      <td>honda jazz v</td>\n",
       "      <td>Chennai</td>\n",
       "      <td>2011</td>\n",
       "      <td>46000</td>\n",
       "      <td>Petrol</td>\n",
       "      <td>Manual</td>\n",
       "      <td>First</td>\n",
       "      <td>18</td>\n",
       "      <td>1199</td>\n",
       "      <td>88</td>\n",
       "      <td>5.0</td>\n",
       "      <td>8</td>\n",
       "      <td>Lakh</td>\n",
       "      <td>honda jazz</td>\n",
       "      <td>honda</td>\n",
       "    </tr>\n",
       "    <tr>\n",
       "      <th>3</th>\n",
       "      <td>maruti ertiga vdi</td>\n",
       "      <td>Chennai</td>\n",
       "      <td>2012</td>\n",
       "      <td>87000</td>\n",
       "      <td>Diesel</td>\n",
       "      <td>Manual</td>\n",
       "      <td>First</td>\n",
       "      <td>20</td>\n",
       "      <td>1248</td>\n",
       "      <td>88</td>\n",
       "      <td>7.0</td>\n",
       "      <td>0</td>\n",
       "      <td>Lakh</td>\n",
       "      <td>maruti ertiga</td>\n",
       "      <td>maruti</td>\n",
       "    </tr>\n",
       "    <tr>\n",
       "      <th>4</th>\n",
       "      <td>audi a4 new 2.0 tdi multitronic</td>\n",
       "      <td>Coimbatore</td>\n",
       "      <td>2013</td>\n",
       "      <td>40670</td>\n",
       "      <td>Diesel</td>\n",
       "      <td>Automatic</td>\n",
       "      <td>Second</td>\n",
       "      <td>15</td>\n",
       "      <td>1968</td>\n",
       "      <td>140</td>\n",
       "      <td>5.0</td>\n",
       "      <td>0</td>\n",
       "      <td>Lakh</td>\n",
       "      <td>audi a4</td>\n",
       "      <td>audi</td>\n",
       "    </tr>\n",
       "  </tbody>\n",
       "</table>\n",
       "</div>"
      ],
      "text/plain": [
       "                               Name    Location  Year  Kilometers_Driven  \\\n",
       "0            maruti wagon r lxi cng      Mumbai  2010              72000   \n",
       "1  hyundai creta 1.6 crdi sx option        Pune  2015              41000   \n",
       "2                      honda jazz v     Chennai  2011              46000   \n",
       "3                 maruti ertiga vdi     Chennai  2012              87000   \n",
       "4   audi a4 new 2.0 tdi multitronic  Coimbatore  2013              40670   \n",
       "\n",
       "  Fuel_Type Transmission Owner_Type  Mileage  Engine  Power  Seats  New_Price  \\\n",
       "0       CNG       Manual      First       26     998     58    5.0          0   \n",
       "1    Diesel       Manual      First       19    1582    126    5.0          0   \n",
       "2    Petrol       Manual      First       18    1199     88    5.0          8   \n",
       "3    Diesel       Manual      First       20    1248     88    7.0          0   \n",
       "4    Diesel    Automatic     Second       15    1968    140    5.0          0   \n",
       "\n",
       "    cur          Name2    Name1  \n",
       "0  Lakh   maruti wagon   maruti  \n",
       "1  Lakh  hyundai creta  hyundai  \n",
       "2  Lakh     honda jazz    honda  \n",
       "3  Lakh  maruti ertiga   maruti  \n",
       "4  Lakh        audi a4     audi  "
      ]
     },
     "execution_count": 27,
     "metadata": {},
     "output_type": "execute_result"
    }
   ],
   "source": [
    "combined_set.head()"
   ]
  },
  {
   "cell_type": "code",
   "execution_count": 28,
   "metadata": {},
   "outputs": [],
   "source": [
    "combined_set[\"Power\"].replace(0,np.nan,inplace=True)\n",
    "combined_set[\"Mileage\"].replace(0,np.nan,inplace=True)\n",
    "combined_set[\"Engine\"].replace(0,np.nan,inplace=True)\n",
    "combined_set[\"Seats\"].replace(0,np.nan,inplace=True)\n",
    "combined_set[\"New_Price\"].replace(0,np.nan,inplace=True)"
   ]
  },
  {
   "cell_type": "code",
   "execution_count": 29,
   "metadata": {},
   "outputs": [],
   "source": [
    "by_Name=combined_set.groupby(['Name'])\n",
    "by_Name2=combined_set.groupby(['Name2'])"
   ]
  },
  {
   "cell_type": "code",
   "execution_count": 30,
   "metadata": {},
   "outputs": [],
   "source": [
    "by_Name1=combined_set.groupby(['Name1'])"
   ]
  },
  {
   "cell_type": "code",
   "execution_count": 31,
   "metadata": {},
   "outputs": [],
   "source": [
    "def impute_median(series):\n",
    "    return series.fillna(series.median())"
   ]
  },
  {
   "cell_type": "code",
   "execution_count": 32,
   "metadata": {},
   "outputs": [],
   "source": [
    "combined_set[\"Power\"]=by_Name['Power'].transform(impute_median)\n",
    "combined_set[\"Mileage\"]=by_Name['Mileage'].transform(impute_median)\n",
    "combined_set[\"Engine\"]=by_Name['Engine'].transform(impute_median)\n",
    "combined_set[\"Seats\"]=by_Name['Seats'].transform(impute_median)\n",
    "combined_set[\"New_Price\"]=by_Name['New_Price'].transform(impute_median)"
   ]
  },
  {
   "cell_type": "code",
   "execution_count": 33,
   "metadata": {},
   "outputs": [],
   "source": [
    "combined_set[\"Power\"]=by_Name2['Power'].transform(impute_median)\n",
    "combined_set[\"Mileage\"]=by_Name2['Mileage'].transform(impute_median)\n",
    "combined_set[\"Engine\"]=by_Name2['Engine'].transform(impute_median)\n",
    "combined_set[\"Seats\"]=by_Name2['Seats'].transform(impute_median)\n",
    "combined_set[\"New_Price\"]=by_Name2['New_Price'].transform(impute_median)"
   ]
  },
  {
   "cell_type": "code",
   "execution_count": 34,
   "metadata": {},
   "outputs": [],
   "source": [
    "combined_set[\"Power\"]=by_Name1['Power'].transform(impute_median)\n",
    "combined_set[\"Mileage\"]=by_Name1['Mileage'].transform(impute_median)\n",
    "combined_set[\"Engine\"]=by_Name1['Engine'].transform(impute_median)\n",
    "combined_set[\"Seats\"]=by_Name1['Seats'].transform(impute_median)\n",
    "#combined_set[\"New_Price\"]=by_Name1['New_Price'].transform(impute_median)"
   ]
  },
  {
   "cell_type": "code",
   "execution_count": 35,
   "metadata": {},
   "outputs": [],
   "source": [
    "combined_set['Mileage'].fillna(0,inplace= True)\n",
    "combined_set['Power'].fillna(0,inplace= True)\n",
    "combined_set['New_Price'].fillna(0,inplace= True)"
   ]
  },
  {
   "cell_type": "code",
   "execution_count": 36,
   "metadata": {},
   "outputs": [],
   "source": [
    "dummy1_combined_set=combined_set"
   ]
  },
  {
   "cell_type": "code",
   "execution_count": 37,
   "metadata": {},
   "outputs": [],
   "source": [
    "#combined_set = dummy1_combined_set"
   ]
  },
  {
   "cell_type": "markdown",
   "metadata": {},
   "source": [
    "### Data exploration"
   ]
  },
  {
   "cell_type": "code",
   "execution_count": 38,
   "metadata": {},
   "outputs": [],
   "source": [
    "df_train =  pd.concat([combined_set[:train_nomissing.shape[0]],y_train], axis=1) # Up to the last initial training set row\n",
    "dst_input = combined_set[train_nomissing.shape[0]:]"
   ]
  },
  {
   "cell_type": "code",
   "execution_count": 39,
   "metadata": {
    "scrolled": true
   },
   "outputs": [
    {
     "data": {
      "image/png": "[encoded data removed]",
      "text/plain": [
       "<Figure size 3024x504 with 2 Axes>"
      ]
     },
     "metadata": {},
     "output_type": "display_data"
    }
   ],
   "source": [
    "mx = sns.factorplot(y=\"Location\",x=\"Price\", data=df_train, kind=\"box\",col='Transmission', size=7,aspect=3)\n",
    "mx.set(ylabel='Price ')\n",
    "plt.title('Location Vs Price ');\n",
    "plt.show()"
   ]
  },
  {
   "cell_type": "code",
   "execution_count": 40,
   "metadata": {
    "scrolled": true
   },
   "outputs": [
    {
     "data": {
      "image/png": "[encoded data removed]",
      "text/plain": [
       "<Figure size 2160x720 with 1 Axes>"
      ]
     },
     "metadata": {},
     "output_type": "display_data"
    }
   ],
   "source": [
    "mx = sns.factorplot(x=\"Year\", y=\"Price\", data=df_train, kind=\"box\", size=10 ,aspect=3)\n",
    "mx.set(xlabel= 'Year')\n",
    "#mx.set_xticklabels('Year',rotation=45)\n",
    "mx.set(ylabel= 'Price')\n",
    "plt.title('Year Vs Price');\n",
    "plt.show()"
   ]
  },
  {
   "cell_type": "code",
   "execution_count": 41,
   "metadata": {
    "scrolled": false
   },
   "outputs": [
    {
     "data": {
      "text/plain": [
       "<Figure size 1800x1080 with 0 Axes>"
      ]
     },
     "metadata": {},
     "output_type": "display_data"
    },
    {
     "data": {
      "image/png": "[encoded data removed]",
      "text/plain": [
       "<Figure size 360x360 with 1 Axes>"
      ]
     },
     "metadata": {},
     "output_type": "display_data"
    }
   ],
   "source": [
    "plt.figure(figsize=(25,15))\n",
    "sns.lmplot(y='Kilometers_Driven',x='Price',data=df_train,fit_reg=True);"
   ]
  },
  {
   "cell_type": "code",
   "execution_count": 42,
   "metadata": {
    "scrolled": true
   },
   "outputs": [
    {
     "data": {
      "text/plain": [
       "<Figure size 1800x1080 with 0 Axes>"
      ]
     },
     "metadata": {},
     "output_type": "display_data"
    },
    {
     "data": {
      "image/png": "[encoded data removed]",
      "text/plain": [
       "<Figure size 360x360 with 1 Axes>"
      ]
     },
     "metadata": {},
     "output_type": "display_data"
    }
   ],
   "source": [
    "plt.figure(figsize=(25,15))\n",
    "sns.lmplot(x='New_Price',y='Price',data=df_train,fit_reg=True);"
   ]
  },
  {
   "cell_type": "code",
   "execution_count": 43,
   "metadata": {
    "scrolled": true
   },
   "outputs": [
    {
     "data": {
      "text/html": [
       "<div>\n",
       "<style scoped>\n",
       "    .dataframe tbody tr th:only-of-type {\n",
       "        vertical-align: middle;\n",
       "    }\n",
       "\n",
       "    .dataframe tbody tr th {\n",
       "        vertical-align: top;\n",
       "    }\n",
       "\n",
       "    .dataframe thead th {\n",
       "        text-align: right;\n",
       "    }\n",
       "</style>\n",
       "<table border=\"1\" class=\"dataframe\">\n",
       "  <thead>\n",
       "    <tr style=\"text-align: right;\">\n",
       "      <th></th>\n",
       "      <th>Name</th>\n",
       "      <th>Location</th>\n",
       "      <th>Year</th>\n",
       "      <th>Kilometers_Driven</th>\n",
       "      <th>Fuel_Type</th>\n",
       "      <th>Transmission</th>\n",
       "      <th>Owner_Type</th>\n",
       "      <th>Mileage</th>\n",
       "      <th>Engine</th>\n",
       "      <th>Power</th>\n",
       "      <th>Seats</th>\n",
       "      <th>New_Price</th>\n",
       "      <th>cur</th>\n",
       "      <th>Name2</th>\n",
       "      <th>Name1</th>\n",
       "      <th>Price</th>\n",
       "    </tr>\n",
       "  </thead>\n",
       "  <tbody>\n",
       "    <tr>\n",
       "      <th>4079</th>\n",
       "      <td>land rover range rover 3.0 diesel lwb vogue</td>\n",
       "      <td>Hyderabad</td>\n",
       "      <td>2017</td>\n",
       "      <td>25000</td>\n",
       "      <td>Diesel</td>\n",
       "      <td>Automatic</td>\n",
       "      <td>First</td>\n",
       "      <td>13.0</td>\n",
       "      <td>2993.0</td>\n",
       "      <td>255.0</td>\n",
       "      <td>5.0</td>\n",
       "      <td>200.0</td>\n",
       "      <td>Cr</td>\n",
       "      <td>land rover</td>\n",
       "      <td>land</td>\n",
       "      <td>160.0</td>\n",
       "    </tr>\n",
       "  </tbody>\n",
       "</table>\n",
       "</div>"
      ],
      "text/plain": [
       "                                             Name   Location  Year  \\\n",
       "4079  land rover range rover 3.0 diesel lwb vogue  Hyderabad  2017   \n",
       "\n",
       "      Kilometers_Driven Fuel_Type Transmission Owner_Type  Mileage  Engine  \\\n",
       "4079              25000    Diesel    Automatic      First     13.0  2993.0   \n",
       "\n",
       "      Power  Seats  New_Price cur       Name2 Name1  Price  \n",
       "4079  255.0    5.0      200.0  Cr  land rover  land  160.0  "
      ]
     },
     "execution_count": 43,
     "metadata": {},
     "output_type": "execute_result"
    }
   ],
   "source": [
    "df_train.loc[(df_train['Price']>150) ]"
   ]
  },
  {
   "cell_type": "code",
   "execution_count": 44,
   "metadata": {},
   "outputs": [],
   "source": [
    "#df_train =df_train.drop(df_train.loc[(df_train['Price']>150)].index.tolist()).reset_index(drop=True)\n"
   ]
  },
  {
   "cell_type": "code",
   "execution_count": 45,
   "metadata": {
    "scrolled": false
   },
   "outputs": [
    {
     "data": {
      "text/html": [
       "<div>\n",
       "<style scoped>\n",
       "    .dataframe tbody tr th:only-of-type {\n",
       "        vertical-align: middle;\n",
       "    }\n",
       "\n",
       "    .dataframe tbody tr th {\n",
       "        vertical-align: top;\n",
       "    }\n",
       "\n",
       "    .dataframe thead th {\n",
       "        text-align: right;\n",
       "    }\n",
       "</style>\n",
       "<table border=\"1\" class=\"dataframe\">\n",
       "  <thead>\n",
       "    <tr style=\"text-align: right;\">\n",
       "      <th></th>\n",
       "      <th>Name</th>\n",
       "      <th>Location</th>\n",
       "      <th>Year</th>\n",
       "      <th>Kilometers_Driven</th>\n",
       "      <th>Fuel_Type</th>\n",
       "      <th>Transmission</th>\n",
       "      <th>Owner_Type</th>\n",
       "      <th>Mileage</th>\n",
       "      <th>Engine</th>\n",
       "      <th>Power</th>\n",
       "      <th>Seats</th>\n",
       "      <th>New_Price</th>\n",
       "      <th>cur</th>\n",
       "      <th>Name2</th>\n",
       "      <th>Name1</th>\n",
       "      <th>Price</th>\n",
       "    </tr>\n",
       "  </thead>\n",
       "  <tbody>\n",
       "    <tr>\n",
       "      <th>2328</th>\n",
       "      <td>bmw x5 xdrive 30d m sport</td>\n",
       "      <td>Chennai</td>\n",
       "      <td>2017</td>\n",
       "      <td>6500000</td>\n",
       "      <td>Diesel</td>\n",
       "      <td>Automatic</td>\n",
       "      <td>First</td>\n",
       "      <td>15.0</td>\n",
       "      <td>2993.0</td>\n",
       "      <td>258.0</td>\n",
       "      <td>5.0</td>\n",
       "      <td>0.0</td>\n",
       "      <td>Lakh</td>\n",
       "      <td>bmw x5</td>\n",
       "      <td>bmw</td>\n",
       "      <td>65.0</td>\n",
       "    </tr>\n",
       "  </tbody>\n",
       "</table>\n",
       "</div>"
      ],
      "text/plain": [
       "                           Name Location  Year  Kilometers_Driven Fuel_Type  \\\n",
       "2328  bmw x5 xdrive 30d m sport  Chennai  2017            6500000    Diesel   \n",
       "\n",
       "     Transmission Owner_Type  Mileage  Engine  Power  Seats  New_Price   cur  \\\n",
       "2328    Automatic      First     15.0  2993.0  258.0    5.0        0.0  Lakh   \n",
       "\n",
       "       Name2 Name1  Price  \n",
       "2328  bmw x5   bmw   65.0  "
      ]
     },
     "execution_count": 45,
     "metadata": {},
     "output_type": "execute_result"
    }
   ],
   "source": [
    "df_train.loc[ (df_train['Kilometers_Driven']>6000000) ]"
   ]
  },
  {
   "cell_type": "code",
   "execution_count": 46,
   "metadata": {
    "scrolled": false
   },
   "outputs": [],
   "source": [
    "df_train['Kilometers_Driven'] =df_train['Kilometers_Driven'].apply(lambda x: 650000 if x>6000000 else x)"
   ]
  },
  {
   "cell_type": "code",
   "execution_count": 47,
   "metadata": {
    "scrolled": true
   },
   "outputs": [
    {
     "data": {
      "image/png": "[encoded data removed]",
      "text/plain": [
       "<Figure size 1440x360 with 2 Axes>"
      ]
     },
     "metadata": {},
     "output_type": "display_data"
    }
   ],
   "source": [
    "mx = sns.factorplot(y=\"Fuel_Type\", x=\"Price\", data=df_train, col='Transmission',kind=\"box\", size=5 ,aspect=2)\n",
    "mx.set(xlabel='Fuel_Type')\n",
    "mx.set(ylabel= 'Price')\n",
    "plt.title('Fuel_Type Vs Price');\n",
    "plt.show()"
   ]
  },
  {
   "cell_type": "code",
   "execution_count": 48,
   "metadata": {},
   "outputs": [],
   "source": [
    "df_train =df_train.drop(df_train.loc[(df_train['Fuel_Type']=='Electric') ].index.tolist()).reset_index(drop=True) "
   ]
  },
  {
   "cell_type": "code",
   "execution_count": 49,
   "metadata": {
    "scrolled": false
   },
   "outputs": [
    {
     "data": {
      "image/png": "[encoded data removed]",
      "text/plain": [
       "<Figure size 1440x360 with 2 Axes>"
      ]
     },
     "metadata": {},
     "output_type": "display_data"
    }
   ],
   "source": [
    "mx = sns.factorplot(x=\"Owner_Type\", y=\"Price\", data=df_train, kind=\"box\",col='Transmission', size=5 ,aspect=2)\n",
    "mx.set(xlabel='Owner_Type')\n",
    "mx.set(ylabel= 'Price')\n",
    "plt.title('Owner_Type Vs Price');\n",
    "plt.show()"
   ]
  },
  {
   "cell_type": "code",
   "execution_count": 50,
   "metadata": {
    "scrolled": true
   },
   "outputs": [
    {
     "data": {
      "image/png": "[encoded data removed]",
      "text/plain": [
       "<Figure size 1440x360 with 2 Axes>"
      ]
     },
     "metadata": {},
     "output_type": "display_data"
    }
   ],
   "source": [
    "mx = sns.factorplot(x=\"Seats\", y=\"Price\", data=df_train, kind=\"box\",col='Transmission', size=5 ,aspect=2)\n",
    "mx.set(xlabel='Seats')\n",
    "mx.set(ylabel= 'Price')\n",
    "plt.title('Seats Vs Price');\n",
    "plt.show()"
   ]
  },
  {
   "cell_type": "code",
   "execution_count": 51,
   "metadata": {},
   "outputs": [
    {
     "data": {
      "image/png": "[encoded data removed]",
      "text/plain": [
       "<Figure size 1512x504 with 1 Axes>"
      ]
     },
     "metadata": {},
     "output_type": "display_data"
    }
   ],
   "source": [
    "mx = sns.factorplot(y=\"Name1\", x=\"Price\", data=df_train,kind=\"box\",size=7 ,aspect=3)\n",
    "mx.set(xlabel='Name1')\n",
    "mx.set(ylabel= 'Price')\n",
    "plt.title('Name1 Vs Price');\n",
    "plt.show()"
   ]
  },
  {
   "cell_type": "code",
   "execution_count": 52,
   "metadata": {
    "scrolled": true
   },
   "outputs": [
    {
     "data": {
      "text/html": [
       "<div>\n",
       "<style scoped>\n",
       "    .dataframe tbody tr th:only-of-type {\n",
       "        vertical-align: middle;\n",
       "    }\n",
       "\n",
       "    .dataframe tbody tr th {\n",
       "        vertical-align: top;\n",
       "    }\n",
       "\n",
       "    .dataframe thead th {\n",
       "        text-align: right;\n",
       "    }\n",
       "</style>\n",
       "<table border=\"1\" class=\"dataframe\">\n",
       "  <thead>\n",
       "    <tr style=\"text-align: right;\">\n",
       "      <th></th>\n",
       "      <th>Name</th>\n",
       "      <th>Location</th>\n",
       "      <th>Year</th>\n",
       "      <th>Kilometers_Driven</th>\n",
       "      <th>Fuel_Type</th>\n",
       "      <th>Transmission</th>\n",
       "      <th>Owner_Type</th>\n",
       "      <th>Mileage</th>\n",
       "      <th>Engine</th>\n",
       "      <th>Power</th>\n",
       "      <th>Seats</th>\n",
       "      <th>New_Price</th>\n",
       "      <th>cur</th>\n",
       "      <th>Name2</th>\n",
       "      <th>Name1</th>\n",
       "      <th>Price</th>\n",
       "    </tr>\n",
       "  </thead>\n",
       "  <tbody>\n",
       "    <tr>\n",
       "      <th>3132</th>\n",
       "      <td>porsche cayenne base</td>\n",
       "      <td>Kochi</td>\n",
       "      <td>2019</td>\n",
       "      <td>14298</td>\n",
       "      <td>Petrol</td>\n",
       "      <td>Automatic</td>\n",
       "      <td>First</td>\n",
       "      <td>13.0</td>\n",
       "      <td>2995.0</td>\n",
       "      <td>340.0</td>\n",
       "      <td>5.0</td>\n",
       "      <td>100.0</td>\n",
       "      <td>Cr</td>\n",
       "      <td>porsche cayenne</td>\n",
       "      <td>porsche</td>\n",
       "      <td>2.02</td>\n",
       "    </tr>\n",
       "  </tbody>\n",
       "</table>\n",
       "</div>"
      ],
      "text/plain": [
       "                      Name Location  Year  Kilometers_Driven Fuel_Type  \\\n",
       "3132  porsche cayenne base    Kochi  2019              14298    Petrol   \n",
       "\n",
       "     Transmission Owner_Type  Mileage  Engine  Power  Seats  New_Price cur  \\\n",
       "3132    Automatic      First     13.0  2995.0  340.0    5.0      100.0  Cr   \n",
       "\n",
       "                Name2    Name1  Price  \n",
       "3132  porsche cayenne  porsche   2.02  "
      ]
     },
     "execution_count": 52,
     "metadata": {},
     "output_type": "execute_result"
    }
   ],
   "source": [
    "df_train.loc[ (df_train['Name1']=='porsche') & (df_train['Price']<3) ]"
   ]
  },
  {
   "cell_type": "code",
   "execution_count": 53,
   "metadata": {},
   "outputs": [],
   "source": [
    "df_train =df_train.drop(df_train.loc[(df_train['Name1']=='porsche') & (df_train['Price']<3)].index.tolist()).reset_index(drop=True)\n"
   ]
  },
  {
   "cell_type": "code",
   "execution_count": 54,
   "metadata": {
    "scrolled": true
   },
   "outputs": [
    {
     "data": {
      "image/png": "[encoded data removed]",
      "text/plain": [
       "<Figure size 720x720 with 3 Axes>"
      ]
     },
     "metadata": {},
     "output_type": "display_data"
    }
   ],
   "source": [
    "# Adding the name length to see how much does a long description influence the price\n",
    "df_train['namelen'] = [min(70, len(n)) for n in df_train['Name']]\n",
    "dst_input['namelen'] = [min(70, len(n)) for n in dst_input['Name']]\n",
    "ax = sns.jointplot(x='namelen', \n",
    "                   y='Price',\n",
    "                   data=df_train[['namelen','Price']], \n",
    "                    alpha=0.1, \n",
    "                    size=10)"
   ]
  },
  {
   "cell_type": "code",
   "execution_count": 55,
   "metadata": {},
   "outputs": [],
   "source": [
    "price_df_train = pd.DataFrame(df_train)"
   ]
  },
  {
   "cell_type": "code",
   "execution_count": 56,
   "metadata": {
    "colab": {},
    "colab_type": "code",
    "id": "WCs9o0xt3Zfi"
   },
   "outputs": [],
   "source": [
    "price_df_train.to_excel('price_df_train.xlsx')"
   ]
  },
  {
   "cell_type": "code",
   "execution_count": 57,
   "metadata": {
    "scrolled": true
   },
   "outputs": [
    {
     "data": {
      "text/plain": [
       "<matplotlib.axes._subplots.AxesSubplot at 0x21635453828>"
      ]
     },
     "execution_count": 57,
     "metadata": {},
     "output_type": "execute_result"
    },
    {
     "data": {
      "image/png": "[encoded data removed]",
      "text/plain": [
       "<Figure size 576x576 with 2 Axes>"
      ]
     },
     "metadata": {},
     "output_type": "display_data"
    }
   ],
   "source": [
    "plt.figure(figsize =(8,8))\n",
    "plt.title('Feature Correlation Heat Map')\n",
    "sns.heatmap(df_train.corr(),linewidths=.1,vmax=1.0,\n",
    "            square=True,linecolor='',annot=True)"
   ]
  },
  {
   "cell_type": "code",
   "execution_count": 58,
   "metadata": {
    "scrolled": true
   },
   "outputs": [
    {
     "data": {
      "text/html": [
       "<div>\n",
       "<style scoped>\n",
       "    .dataframe tbody tr th:only-of-type {\n",
       "        vertical-align: middle;\n",
       "    }\n",
       "\n",
       "    .dataframe tbody tr th {\n",
       "        vertical-align: top;\n",
       "    }\n",
       "\n",
       "    .dataframe thead th {\n",
       "        text-align: right;\n",
       "    }\n",
       "</style>\n",
       "<table border=\"1\" class=\"dataframe\">\n",
       "  <thead>\n",
       "    <tr style=\"text-align: right;\">\n",
       "      <th></th>\n",
       "      <th>Name</th>\n",
       "      <th>Location</th>\n",
       "      <th>Year</th>\n",
       "      <th>Kilometers_Driven</th>\n",
       "      <th>Fuel_Type</th>\n",
       "      <th>Transmission</th>\n",
       "      <th>Owner_Type</th>\n",
       "      <th>Mileage</th>\n",
       "      <th>Engine</th>\n",
       "      <th>Power</th>\n",
       "      <th>Seats</th>\n",
       "      <th>New_Price</th>\n",
       "      <th>cur</th>\n",
       "      <th>Name2</th>\n",
       "      <th>Name1</th>\n",
       "    </tr>\n",
       "  </thead>\n",
       "  <tbody>\n",
       "    <tr>\n",
       "      <th>0</th>\n",
       "      <td>maruti wagon r lxi cng</td>\n",
       "      <td>Mumbai</td>\n",
       "      <td>2010</td>\n",
       "      <td>72000</td>\n",
       "      <td>CNG</td>\n",
       "      <td>Manual</td>\n",
       "      <td>First</td>\n",
       "      <td>26.0</td>\n",
       "      <td>998.0</td>\n",
       "      <td>58.0</td>\n",
       "      <td>5.0</td>\n",
       "      <td>5.0</td>\n",
       "      <td>Lakh</td>\n",
       "      <td>maruti wagon</td>\n",
       "      <td>maruti</td>\n",
       "    </tr>\n",
       "    <tr>\n",
       "      <th>1</th>\n",
       "      <td>hyundai creta 1.6 crdi sx option</td>\n",
       "      <td>Pune</td>\n",
       "      <td>2015</td>\n",
       "      <td>41000</td>\n",
       "      <td>Diesel</td>\n",
       "      <td>Manual</td>\n",
       "      <td>First</td>\n",
       "      <td>19.0</td>\n",
       "      <td>1582.0</td>\n",
       "      <td>126.0</td>\n",
       "      <td>5.0</td>\n",
       "      <td>15.5</td>\n",
       "      <td>Lakh</td>\n",
       "      <td>hyundai creta</td>\n",
       "      <td>hyundai</td>\n",
       "    </tr>\n",
       "    <tr>\n",
       "      <th>2</th>\n",
       "      <td>honda jazz v</td>\n",
       "      <td>Chennai</td>\n",
       "      <td>2011</td>\n",
       "      <td>46000</td>\n",
       "      <td>Petrol</td>\n",
       "      <td>Manual</td>\n",
       "      <td>First</td>\n",
       "      <td>18.0</td>\n",
       "      <td>1199.0</td>\n",
       "      <td>88.0</td>\n",
       "      <td>5.0</td>\n",
       "      <td>8.0</td>\n",
       "      <td>Lakh</td>\n",
       "      <td>honda jazz</td>\n",
       "      <td>honda</td>\n",
       "    </tr>\n",
       "    <tr>\n",
       "      <th>3</th>\n",
       "      <td>maruti ertiga vdi</td>\n",
       "      <td>Chennai</td>\n",
       "      <td>2012</td>\n",
       "      <td>87000</td>\n",
       "      <td>Diesel</td>\n",
       "      <td>Manual</td>\n",
       "      <td>First</td>\n",
       "      <td>20.0</td>\n",
       "      <td>1248.0</td>\n",
       "      <td>88.0</td>\n",
       "      <td>7.0</td>\n",
       "      <td>11.0</td>\n",
       "      <td>Lakh</td>\n",
       "      <td>maruti ertiga</td>\n",
       "      <td>maruti</td>\n",
       "    </tr>\n",
       "    <tr>\n",
       "      <th>4</th>\n",
       "      <td>audi a4 new 2.0 tdi multitronic</td>\n",
       "      <td>Coimbatore</td>\n",
       "      <td>2013</td>\n",
       "      <td>40670</td>\n",
       "      <td>Diesel</td>\n",
       "      <td>Automatic</td>\n",
       "      <td>Second</td>\n",
       "      <td>15.0</td>\n",
       "      <td>1968.0</td>\n",
       "      <td>140.0</td>\n",
       "      <td>5.0</td>\n",
       "      <td>53.0</td>\n",
       "      <td>Lakh</td>\n",
       "      <td>audi a4</td>\n",
       "      <td>audi</td>\n",
       "    </tr>\n",
       "  </tbody>\n",
       "</table>\n",
       "</div>"
      ],
      "text/plain": [
       "                               Name    Location  Year  Kilometers_Driven  \\\n",
       "0            maruti wagon r lxi cng      Mumbai  2010              72000   \n",
       "1  hyundai creta 1.6 crdi sx option        Pune  2015              41000   \n",
       "2                      honda jazz v     Chennai  2011              46000   \n",
       "3                 maruti ertiga vdi     Chennai  2012              87000   \n",
       "4   audi a4 new 2.0 tdi multitronic  Coimbatore  2013              40670   \n",
       "\n",
       "  Fuel_Type Transmission Owner_Type  Mileage  Engine  Power  Seats  New_Price  \\\n",
       "0       CNG       Manual      First     26.0   998.0   58.0    5.0        5.0   \n",
       "1    Diesel       Manual      First     19.0  1582.0  126.0    5.0       15.5   \n",
       "2    Petrol       Manual      First     18.0  1199.0   88.0    5.0        8.0   \n",
       "3    Diesel       Manual      First     20.0  1248.0   88.0    7.0       11.0   \n",
       "4    Diesel    Automatic     Second     15.0  1968.0  140.0    5.0       53.0   \n",
       "\n",
       "    cur          Name2    Name1  \n",
       "0  Lakh   maruti wagon   maruti  \n",
       "1  Lakh  hyundai creta  hyundai  \n",
       "2  Lakh     honda jazz    honda  \n",
       "3  Lakh  maruti ertiga   maruti  \n",
       "4  Lakh        audi a4     audi  "
      ]
     },
     "execution_count": 58,
     "metadata": {},
     "output_type": "execute_result"
    }
   ],
   "source": [
    "combined_set.head()"
   ]
  },
  {
   "cell_type": "code",
   "execution_count": 59,
   "metadata": {},
   "outputs": [],
   "source": [
    "#combining the train and test \n",
    "y_train = df_train['Price']\n",
    "train_nomissing = df_train.drop('Price',axis=1)\n",
    "test_nomissing = dst_input\n",
    "combined_set = pd.concat([train_nomissing, test_nomissing], axis = 0) # Stacks them vertically"
   ]
  },
  {
   "cell_type": "markdown",
   "metadata": {
    "colab_type": "text",
    "id": "S44QmB3I2mg5"
   },
   "source": [
    "### 4. Feature Engineering  <a id='feature'>"
   ]
  },
  {
   "cell_type": "code",
   "execution_count": 60,
   "metadata": {},
   "outputs": [],
   "source": [
    "dummy2_combined_set=combined_set"
   ]
  },
  {
   "cell_type": "code",
   "execution_count": 61,
   "metadata": {},
   "outputs": [],
   "source": [
    "combined_set = dummy2_combined_set"
   ]
  },
  {
   "cell_type": "code",
   "execution_count": 62,
   "metadata": {},
   "outputs": [],
   "source": [
    "# agegroup below 30 and above 59 as a categorical feature\n",
    "def premium(pro):\n",
    "    if(pro in [\"maruti\",\"hyundai\",'honda','ford','mahindra','tata','skoda','renault'\n",
    "              ,'chevrolet','nissan','fiat','datsun','ambassador','hindustan'\n",
    "              ,'Smart']):\n",
    "        pro='I'\n",
    "    else:\n",
    "        pro='P'\n",
    "    return pro\n",
    "      \n",
    "combined_set['is_premium'] = combined_set['Name1'].apply(premium)"
   ]
  },
  {
   "cell_type": "markdown",
   "metadata": {},
   "source": [
    "# agegroup below 30 and above 59 as a categorical feature\n",
    "def premium(pro):\n",
    "    car='premium'\n",
    "\n",
    "    if pro < 7:\n",
    "        car='cheap'\n",
    "    elif pro >=7 and pro < 12:\n",
    "        car='hatch'\n",
    "    elif pro >=12 and pro < 17:\n",
    "        car='sedan'\n",
    "    elif pro >=17 and pro < 25:\n",
    "        car='suv'\n",
    "    elif pro >=25 and pro < 60:\n",
    "        car='luxury'\n",
    "    elif pro >=60 and pro < 100:\n",
    "        car='premium'\n",
    "    elif pro >=100:\n",
    "        car='extrapremium'\n",
    "    return car\n",
    "      \n",
    "combined_set['is_premium'] = combined_set['New_Price'].apply(premium)"
   ]
  },
  {
   "cell_type": "markdown",
   "metadata": {},
   "source": [
    "# agegroup below 30 and above 59 as a categorical feature\n",
    "def Location(loc):\n",
    "    if(loc in [\"kochi\"]):\n",
    "        loc=1\n",
    "    elif (loc in [\"Coimbatore\"]): \n",
    "        loc=2\n",
    "    elif (loc in [\"Jaipur\",\"Pune\"]): \n",
    "        loc=3\n",
    "    elif (loc in [\"Kolkata\",\"Chennai\"]): \n",
    "        loc=4\n",
    "    elif (loc in [\"Ahmedabad\",\"Hyderabad\"]): \n",
    "        loc=5\n",
    "    elif (loc in [\"Bangalore\"]): \n",
    "        loc=6\n",
    "    elif (loc in [\"Delhi\",\"Mumbai\"]): \n",
    "        loc=7\n",
    "    return loc\n",
    "      \n",
    "combined_set['is_Location'] = combined_set['Location'].apply(Location)"
   ]
  },
  {
   "cell_type": "code",
   "execution_count": 63,
   "metadata": {},
   "outputs": [],
   "source": [
    "# agegroup below 30 and above 59 as a categorical feature\n",
    "def Exp_output(Ex):\n",
    "    if Ex<=2006:\n",
    "        Ex=2006\n",
    "    return Ex\n",
    "      \n",
    "combined_set['Year'] = combined_set['Year'].apply(Exp_output)"
   ]
  },
  {
   "cell_type": "code",
   "execution_count": 64,
   "metadata": {},
   "outputs": [],
   "source": [
    "# agegroup below 30 and above 59 as a categorical feature\n",
    "def Exp_output(Ex):\n",
    "    if (Ex in ['CNG','LPG']):\n",
    "        Ex='LPG_CNG'\n",
    "    return Ex\n",
    "      \n",
    "combined_set['Fuel_Type'] = combined_set['Fuel_Type'].apply(Exp_output)"
   ]
  },
  {
   "cell_type": "code",
   "execution_count": 65,
   "metadata": {},
   "outputs": [],
   "source": [
    "# agegroup below 30 and above 59 as a categorical feature\n",
    "def Exp_owner(Ex_Tr):\n",
    "    Ex,Tr=Ex_Tr\n",
    "    if ((Tr =='Manual' and Ex in ['Second','Third']) or (Ex=='Fourth & Above')):\n",
    "        Ex='com'\n",
    "    return Ex\n",
    "      \n",
    "combined_set['Owner_Type'] = combined_set[['Owner_Type','Transmission']].apply(Exp_owner,axis=1)"
   ]
  },
  {
   "cell_type": "code",
   "execution_count": 66,
   "metadata": {},
   "outputs": [],
   "source": [
    "# agegroup below 30 and above 59 as a categorical feature\n",
    "def Exp_price(Ex_pr):\n",
    "    Ex,pr=Ex_pr\n",
    "    if Ex in ['mercedes-benz s','jaguar f'] :\n",
    "        pr=200\n",
    "    elif Ex in ['audi a8','mercedes-benz sl-class']:\n",
    "        pr=100\n",
    "    elif Ex in ['mercedes-benz gl-class','bmw x6','jaguar xj','mercedes-benz slk-class','volvo xc90','audi a7',\n",
    "               'porsche cayman','toyota land'] :\n",
    "        pr=90\n",
    "    elif Ex in ['bmw x5','bmw 6','mitsubishi montero']:\n",
    "        pr=70\n",
    "    elif Ex in ['mercedes-benz m-class','audi tt','bmw z4'] :\n",
    "        pr=66\n",
    "    elif Ex in ['audi q5','volvo xc60','mercedes-benz r-class','volvo s80','nissan 370z']:\n",
    "        pr=55\n",
    "    elif Ex=='honda accord':\n",
    "        pr=44\n",
    "    elif Ex in ['hyundai santa','volkswagen passat','renault koleos','nissan x-trail','chevrolet captiva','bmw 1',\n",
    "               'mitsubishi outlander','fiat abarth']:\n",
    "        pr=30\n",
    "    elif Ex in[ 'mahindra ssangyong','skoda yeti','nissan teana','maruti grand','isuzu mu']:\n",
    "        pr= 24\n",
    "    elif Ex=='hyundai sonata':\n",
    "        pr=18\n",
    "    elif Ex in ['volkswagen jetta','isuzu d-max']:\n",
    "        pr=17\n",
    "    elif Ex in['skoda laura','chevrolet cruze','renault fluence']:\n",
    "        pr=16.5\n",
    "    elif Ex=='tata new':\n",
    "        pr=14\n",
    "    elif Ex in ['mahindra scorpio','renault scala','tata xenon','force one','chevrolet tavera','renault captur']:\n",
    "        pr=12\n",
    "    elif Ex in ['ford fiesta','maruti sx4','honda civic','mahindra tuv','chevrolet optra','maruti s',\n",
    "               'tata sumo','mahindra quanto','toyota qualis','volkswagen crosspolo','renault lodgy','mitsubishi lancer'\n",
    "               ,'mitsubishi cedia','mahindra jeep']:\n",
    "        pr=9\n",
    "    elif Ex in ['hyundai accent','honda mobilio','chevrolet enjoy','renault pulse','fiat grande','mahindra renault',\n",
    "               'ford classic']:\n",
    "        pr=7\n",
    "    elif Ex in ['maruti ritz','tata manza','chevrolet aveo','chevrolet sail','maruti esteem','mahindra logan',\n",
    "               'ford fusion','opelcorsa 1.4gsi']:\n",
    "        pr=6\n",
    "    elif Ex in ['tata indigo','hyundai i10','ford ikon','fiat petra','hindustan motors']:\n",
    "        pr= 5\n",
    "    elif Ex in ['hyundai eon','hyundai getz','chevrolet beat','tata venture']:\n",
    "        pr=4.5\n",
    "    elif Ex in['tata indica','maruti a-star','maruti estilo','maruti versa','maruti 1000','datsun redi']:\n",
    "        pr=4\n",
    "    elif Ex in ['chevrolet spark','maruti zen']:\n",
    "        pr=3.5\n",
    "    elif Ex in ['maruti omni','maruti 800']:\n",
    "        pr=3\n",
    "    elif Ex =='tata nano':\n",
    "        pr=2.5     \n",
    "    return pr\n",
    "      \n",
    "combined_set['New_Price'] = combined_set[['Name2','New_Price']].apply(Exp_price,axis=1)"
   ]
  },
  {
   "cell_type": "code",
   "execution_count": 67,
   "metadata": {
    "scrolled": true
   },
   "outputs": [],
   "source": [
    "combined_set=combined_set.drop(['Name','Name1','cur'],axis=1)"
   ]
  },
  {
   "cell_type": "code",
   "execution_count": 68,
   "metadata": {
    "scrolled": true
   },
   "outputs": [],
   "source": [
    "combined_set=pd.get_dummies(data=combined_set)"
   ]
  },
  {
   "cell_type": "code",
   "execution_count": 69,
   "metadata": {},
   "outputs": [],
   "source": [
    "st_dummies = pd.get_dummies(combined_set.Seats, prefix='Seats')\n",
    "combined_set = pd.concat([combined_set,st_dummies], axis=1)\n",
    "\n"
   ]
  },
  {
   "cell_type": "code",
   "execution_count": 70,
   "metadata": {},
   "outputs": [],
   "source": [
    "combined_set=combined_set.drop(['Seats'],axis=1)"
   ]
  },
  {
   "cell_type": "code",
   "execution_count": 71,
   "metadata": {},
   "outputs": [],
   "source": [
    "#combined_set.to_excel('combined_set.xlsx')"
   ]
  },
  {
   "cell_type": "markdown",
   "metadata": {
    "colab_type": "text",
    "id": "gYToxz3a2Jf4"
   },
   "source": [
    "### Scaling dataset   <a id='pcalr'>"
   ]
  },
  {
   "cell_type": "code",
   "execution_count": 72,
   "metadata": {
    "colab": {},
    "colab_type": "code",
    "id": "4m785xRv2Jf4",
    "outputId": "18cdca9f-7884-44ac-f29e-ae04150d3402"
   },
   "outputs": [],
   "source": [
    "df_train = combined_set[:train_nomissing.shape[0]] # Up to the last initial training set row\n",
    "df_test = combined_set[train_nomissing.shape[0]:] # Past the last initial training set row"
   ]
  },
  {
   "cell_type": "code",
   "execution_count": 73,
   "metadata": {
    "colab": {},
    "colab_type": "code",
    "id": "4m785xRv2Jf4",
    "outputId": "18cdca9f-7884-44ac-f29e-ae04150d3402"
   },
   "outputs": [],
   "source": [
    "from sklearn.preprocessing import StandardScaler\n",
    "sc = StandardScaler()\n",
    "df_train_arr_scld = sc.fit_transform(df_train)\n",
    "df_train_scld=pd.DataFrame(df_train_arr_scld,columns=df_train.columns)\n",
    "df_test_arr_scld = sc.transform(df_test)\n",
    "df_test_scld=pd.DataFrame(df_test_arr_scld,columns=df_test.columns)"
   ]
  },
  {
   "cell_type": "code",
   "execution_count": 74,
   "metadata": {
    "colab": {},
    "colab_type": "code",
    "id": "4m785xRv2Jf4",
    "outputId": "18cdca9f-7884-44ac-f29e-ae04150d3402"
   },
   "outputs": [],
   "source": [
    "# Spitting the data into Test and Train from combined_set_scld\n",
    "\n",
    "train = df_train_scld # Up to the last initial training set row\n",
    "test = df_test_scld # Past the last initial training set row\n",
    "\n",
    "#train = df_train # Up to the last initial training set row\n",
    "#test = df_test # Past the last initial training set row\n",
    "labels = y_train\n"
   ]
  },
  {
   "cell_type": "code",
   "execution_count": 75,
   "metadata": {
    "colab": {},
    "colab_type": "code",
    "id": "4m785xRv2Jf4",
    "outputId": "18cdca9f-7884-44ac-f29e-ae04150d3402"
   },
   "outputs": [
    {
     "data": {
      "text/html": [
       "<div>\n",
       "<style scoped>\n",
       "    .dataframe tbody tr th:only-of-type {\n",
       "        vertical-align: middle;\n",
       "    }\n",
       "\n",
       "    .dataframe tbody tr th {\n",
       "        vertical-align: top;\n",
       "    }\n",
       "\n",
       "    .dataframe thead th {\n",
       "        text-align: right;\n",
       "    }\n",
       "</style>\n",
       "<table border=\"1\" class=\"dataframe\">\n",
       "  <thead>\n",
       "    <tr style=\"text-align: right;\">\n",
       "      <th></th>\n",
       "      <th>Year</th>\n",
       "      <th>Kilometers_Driven</th>\n",
       "      <th>Mileage</th>\n",
       "      <th>Engine</th>\n",
       "      <th>Power</th>\n",
       "      <th>New_Price</th>\n",
       "      <th>namelen</th>\n",
       "      <th>Location_Ahmedabad</th>\n",
       "      <th>Location_Bangalore</th>\n",
       "      <th>Location_Chennai</th>\n",
       "      <th>...</th>\n",
       "      <th>is_premium_I</th>\n",
       "      <th>is_premium_P</th>\n",
       "      <th>Seats_2.0</th>\n",
       "      <th>Seats_4.0</th>\n",
       "      <th>Seats_5.0</th>\n",
       "      <th>Seats_6.0</th>\n",
       "      <th>Seats_7.0</th>\n",
       "      <th>Seats_8.0</th>\n",
       "      <th>Seats_9.0</th>\n",
       "      <th>Seats_10.0</th>\n",
       "    </tr>\n",
       "  </thead>\n",
       "  <tbody>\n",
       "    <tr>\n",
       "      <th>0</th>\n",
       "      <td>-1.099422</td>\n",
       "      <td>0.368090</td>\n",
       "      <td>1.937179</td>\n",
       "      <td>-1.036946</td>\n",
       "      <td>-1.009167</td>\n",
       "      <td>-0.652672</td>\n",
       "      <td>-0.523170</td>\n",
       "      <td>-0.196657</td>\n",
       "      <td>-0.251542</td>\n",
       "      <td>-0.298769</td>\n",
       "      <td>...</td>\n",
       "      <td>0.643324</td>\n",
       "      <td>-0.643324</td>\n",
       "      <td>-0.05164</td>\n",
       "      <td>-0.12935</td>\n",
       "      <td>0.436555</td>\n",
       "      <td>-0.07197</td>\n",
       "      <td>-0.355501</td>\n",
       "      <td>-0.150935</td>\n",
       "      <td>-0.022336</td>\n",
       "      <td>-0.028841</td>\n",
       "    </tr>\n",
       "    <tr>\n",
       "      <th>1</th>\n",
       "      <td>0.510872</td>\n",
       "      <td>-0.434202</td>\n",
       "      <td>0.266755</td>\n",
       "      <td>-0.063648</td>\n",
       "      <td>0.254823</td>\n",
       "      <td>-0.211941</td>\n",
       "      <td>0.733173</td>\n",
       "      <td>-0.196657</td>\n",
       "      <td>-0.251542</td>\n",
       "      <td>-0.298769</td>\n",
       "      <td>...</td>\n",
       "      <td>0.643324</td>\n",
       "      <td>-0.643324</td>\n",
       "      <td>-0.05164</td>\n",
       "      <td>-0.12935</td>\n",
       "      <td>0.436555</td>\n",
       "      <td>-0.07197</td>\n",
       "      <td>-0.355501</td>\n",
       "      <td>-0.150935</td>\n",
       "      <td>-0.022336</td>\n",
       "      <td>-0.028841</td>\n",
       "    </tr>\n",
       "    <tr>\n",
       "      <th>2</th>\n",
       "      <td>-0.777363</td>\n",
       "      <td>-0.304800</td>\n",
       "      <td>0.028123</td>\n",
       "      <td>-0.701958</td>\n",
       "      <td>-0.451524</td>\n",
       "      <td>-0.526749</td>\n",
       "      <td>-1.779514</td>\n",
       "      <td>-0.196657</td>\n",
       "      <td>-0.251542</td>\n",
       "      <td>3.347064</td>\n",
       "      <td>...</td>\n",
       "      <td>0.643324</td>\n",
       "      <td>-0.643324</td>\n",
       "      <td>-0.05164</td>\n",
       "      <td>-0.12935</td>\n",
       "      <td>0.436555</td>\n",
       "      <td>-0.07197</td>\n",
       "      <td>-0.355501</td>\n",
       "      <td>-0.150935</td>\n",
       "      <td>-0.022336</td>\n",
       "      <td>-0.028841</td>\n",
       "    </tr>\n",
       "    <tr>\n",
       "      <th>3</th>\n",
       "      <td>-0.455304</td>\n",
       "      <td>0.756296</td>\n",
       "      <td>0.505387</td>\n",
       "      <td>-0.620294</td>\n",
       "      <td>-0.451524</td>\n",
       "      <td>-0.400826</td>\n",
       "      <td>-1.151342</td>\n",
       "      <td>-0.196657</td>\n",
       "      <td>-0.251542</td>\n",
       "      <td>3.347064</td>\n",
       "      <td>...</td>\n",
       "      <td>0.643324</td>\n",
       "      <td>-0.643324</td>\n",
       "      <td>-0.05164</td>\n",
       "      <td>-0.12935</td>\n",
       "      <td>-2.290665</td>\n",
       "      <td>-0.07197</td>\n",
       "      <td>2.812933</td>\n",
       "      <td>-0.150935</td>\n",
       "      <td>-0.022336</td>\n",
       "      <td>-0.028841</td>\n",
       "    </tr>\n",
       "    <tr>\n",
       "      <th>4</th>\n",
       "      <td>-0.133245</td>\n",
       "      <td>-0.442742</td>\n",
       "      <td>-0.687772</td>\n",
       "      <td>0.579662</td>\n",
       "      <td>0.515056</td>\n",
       "      <td>1.362099</td>\n",
       "      <td>0.607539</td>\n",
       "      <td>-0.196657</td>\n",
       "      <td>-0.251542</td>\n",
       "      <td>-0.298769</td>\n",
       "      <td>...</td>\n",
       "      <td>-1.554426</td>\n",
       "      <td>1.554426</td>\n",
       "      <td>-0.05164</td>\n",
       "      <td>-0.12935</td>\n",
       "      <td>0.436555</td>\n",
       "      <td>-0.07197</td>\n",
       "      <td>-0.355501</td>\n",
       "      <td>-0.150935</td>\n",
       "      <td>-0.022336</td>\n",
       "      <td>-0.028841</td>\n",
       "    </tr>\n",
       "  </tbody>\n",
       "</table>\n",
       "<p>5 rows × 257 columns</p>\n",
       "</div>"
      ],
      "text/plain": [
       "       Year  Kilometers_Driven   Mileage    Engine     Power  New_Price  \\\n",
       "0 -1.099422           0.368090  1.937179 -1.036946 -1.009167  -0.652672   \n",
       "1  0.510872          -0.434202  0.266755 -0.063648  0.254823  -0.211941   \n",
       "2 -0.777363          -0.304800  0.028123 -0.701958 -0.451524  -0.526749   \n",
       "3 -0.455304           0.756296  0.505387 -0.620294 -0.451524  -0.400826   \n",
       "4 -0.133245          -0.442742 -0.687772  0.579662  0.515056   1.362099   \n",
       "\n",
       "    namelen  Location_Ahmedabad  Location_Bangalore  Location_Chennai  \\\n",
       "0 -0.523170           -0.196657           -0.251542         -0.298769   \n",
       "1  0.733173           -0.196657           -0.251542         -0.298769   \n",
       "2 -1.779514           -0.196657           -0.251542          3.347064   \n",
       "3 -1.151342           -0.196657           -0.251542          3.347064   \n",
       "4  0.607539           -0.196657           -0.251542         -0.298769   \n",
       "\n",
       "      ...      is_premium_I  is_premium_P  Seats_2.0  Seats_4.0  Seats_5.0  \\\n",
       "0     ...          0.643324     -0.643324   -0.05164   -0.12935   0.436555   \n",
       "1     ...          0.643324     -0.643324   -0.05164   -0.12935   0.436555   \n",
       "2     ...          0.643324     -0.643324   -0.05164   -0.12935   0.436555   \n",
       "3     ...          0.643324     -0.643324   -0.05164   -0.12935  -2.290665   \n",
       "4     ...         -1.554426      1.554426   -0.05164   -0.12935   0.436555   \n",
       "\n",
       "   Seats_6.0  Seats_7.0  Seats_8.0  Seats_9.0  Seats_10.0  \n",
       "0   -0.07197  -0.355501  -0.150935  -0.022336   -0.028841  \n",
       "1   -0.07197  -0.355501  -0.150935  -0.022336   -0.028841  \n",
       "2   -0.07197  -0.355501  -0.150935  -0.022336   -0.028841  \n",
       "3   -0.07197   2.812933  -0.150935  -0.022336   -0.028841  \n",
       "4   -0.07197  -0.355501  -0.150935  -0.022336   -0.028841  \n",
       "\n",
       "[5 rows x 257 columns]"
      ]
     },
     "execution_count": 75,
     "metadata": {},
     "output_type": "execute_result"
    }
   ],
   "source": [
    "train.head()"
   ]
  },
  {
   "cell_type": "code",
   "execution_count": 76,
   "metadata": {
    "colab": {},
    "colab_type": "code",
    "id": "4m785xRv2Jf4",
    "outputId": "18cdca9f-7884-44ac-f29e-ae04150d3402",
    "scrolled": true
   },
   "outputs": [
    {
     "data": {
      "text/plain": [
       "(6016, 257)"
      ]
     },
     "execution_count": 76,
     "metadata": {},
     "output_type": "execute_result"
    }
   ],
   "source": [
    "train.shape"
   ]
  },
  {
   "cell_type": "code",
   "execution_count": 77,
   "metadata": {
    "colab": {},
    "colab_type": "code",
    "id": "4m785xRv2Jf4",
    "outputId": "18cdca9f-7884-44ac-f29e-ae04150d3402"
   },
   "outputs": [
    {
     "data": {
      "text/plain": [
       "(1234, 257)"
      ]
     },
     "execution_count": 77,
     "metadata": {},
     "output_type": "execute_result"
    }
   ],
   "source": [
    "test.shape"
   ]
  },
  {
   "cell_type": "code",
   "execution_count": 78,
   "metadata": {
    "colab": {},
    "colab_type": "code",
    "id": "4m785xRv2Jf4",
    "outputId": "18cdca9f-7884-44ac-f29e-ae04150d3402"
   },
   "outputs": [],
   "source": [
    "# Keep one set of train data for further use\n",
    "train1=train.copy()\n",
    "test1=test.copy()\n",
    "y_train1=y_train.copy()"
   ]
  },
  {
   "cell_type": "code",
   "execution_count": 79,
   "metadata": {
    "colab": {},
    "colab_type": "code",
    "id": "4m785xRv2Jf4",
    "outputId": "18cdca9f-7884-44ac-f29e-ae04150d3402"
   },
   "outputs": [],
   "source": [
    "#train=train1\n",
    "#test=test1\n",
    "#y_train=y_train1"
   ]
  },
  {
   "cell_type": "markdown",
   "metadata": {},
   "source": [
    "### Let's start building models"
   ]
  },
  {
   "cell_type": "code",
   "execution_count": 80,
   "metadata": {},
   "outputs": [],
   "source": [
    "from sklearn.linear_model import ElasticNet, Lasso,  BayesianRidge, LassoLarsIC\n",
    "from sklearn.ensemble import RandomForestRegressor,  GradientBoostingRegressor\n",
    "from sklearn.kernel_ridge import KernelRidge\n",
    "from sklearn.pipeline import make_pipeline\n",
    "from sklearn.preprocessing import RobustScaler\n",
    "from sklearn.base import BaseEstimator, TransformerMixin, RegressorMixin, clone\n",
    "from sklearn.model_selection import KFold, cross_val_score, train_test_split\n",
    "from sklearn.metrics import mean_squared_error\n",
    "import xgboost as xgb\n",
    "import lightgbm as lgb\n",
    "from sklearn.linear_model import SGDRegressor\n",
    "from sklearn.svm import SVR"
   ]
  },
  {
   "cell_type": "markdown",
   "metadata": {
    "scrolled": false
   },
   "source": [
    "# Define a cross validation strategy"
   ]
  },
  {
   "cell_type": "code",
   "execution_count": 81,
   "metadata": {},
   "outputs": [],
   "source": [
    "#Validation function\n",
    "n_folds = 5\n",
    "\n",
    "def rmsle_cv(model):\n",
    "    kf = KFold(n_folds, shuffle=True, random_state=42).get_n_splits(train.values)\n",
    "    rmse= np.sqrt(-cross_val_score(model, train.values, y_train, scoring=\"neg_mean_squared_error\", cv = kf))\n",
    "    return(rmse)"
   ]
  },
  {
   "cell_type": "code",
   "execution_count": 82,
   "metadata": {},
   "outputs": [],
   "source": [
    "def rmsle(y, y_pred):\n",
    "    return np.sqrt(mean_squared_error(y, y_pred))"
   ]
  },
  {
   "cell_type": "markdown",
   "metadata": {
    "scrolled": false
   },
   "source": [
    "# Base models\n",
    "LASSO Regression :\n",
    "This model may be very sensitive to outliers. So we need to made it more robust on them. For that we use the sklearn's Robustscaler() method on pipeline"
   ]
  },
  {
   "cell_type": "markdown",
   "metadata": {
    "scrolled": false
   },
   "source": [
    "# LASSO Regression  :"
   ]
  },
  {
   "cell_type": "markdown",
   "metadata": {},
   "source": [
    "lasso = make_pipeline(RobustScaler(), Lasso(alpha =0.05, random_state=1))"
   ]
  },
  {
   "cell_type": "markdown",
   "metadata": {
    "scrolled": true
   },
   "source": [
    "score = rmsle_cv(lasso)\n",
    "print(\"\\nLasso score: {:.4f} ({:.4f})\\n\".format(score.mean(), score.std()))"
   ]
  },
  {
   "cell_type": "markdown",
   "metadata": {
    "scrolled": false
   },
   "source": [
    "# Elastic Net Regression :"
   ]
  },
  {
   "cell_type": "markdown",
   "metadata": {},
   "source": [
    "ENet = make_pipeline(RobustScaler(), ElasticNet(alpha=0.05, l1_ratio=.9, random_state=3))"
   ]
  },
  {
   "cell_type": "markdown",
   "metadata": {},
   "source": [
    "score = rmsle_cv(ENet)\n",
    "print(\"ElasticNet score: {:.4f} ({:.4f})\\n\".format(score.mean(), score.std()))"
   ]
  },
  {
   "cell_type": "markdown",
   "metadata": {
    "scrolled": false
   },
   "source": [
    "# Kernel Ridge Regression :"
   ]
  },
  {
   "cell_type": "markdown",
   "metadata": {},
   "source": [
    "KRR = KernelRidge(alpha=0.6, kernel='polynomial', degree=2, coef0=2.5)"
   ]
  },
  {
   "cell_type": "markdown",
   "metadata": {
    "scrolled": true
   },
   "source": [
    "score = rmsle_cv(KRR)\n",
    "print(\"Kernel Ridge score: {:.4f} ({:.4f})\\n\".format(score.mean(), score.std()))"
   ]
  },
  {
   "cell_type": "markdown",
   "metadata": {
    "scrolled": false
   },
   "source": [
    "# Gradient Boosting Regression :\n",
    "With huber loss that makes it robust to outliers"
   ]
  },
  {
   "cell_type": "code",
   "execution_count": 83,
   "metadata": {},
   "outputs": [],
   "source": [
    "GBoost = GradientBoostingRegressor(n_estimators=3000, learning_rate=0.05,\n",
    "                                   max_depth=4,\n",
    "                                   min_samples_leaf=15, min_samples_split=15, \n",
    "                                   loss='huber', random_state =5)"
   ]
  },
  {
   "cell_type": "markdown",
   "metadata": {},
   "source": [
    "GBoost = GradientBoostingRegressor(n_estimators=3000, learning_rate=0.05,\n",
    "                                   max_depth=4, max_features='sqrt',\n",
    "                                   min_samples_leaf=15, min_samples_split=10, \n",
    "                                   loss='huber', random_state =5)"
   ]
  },
  {
   "cell_type": "code",
   "execution_count": 84,
   "metadata": {},
   "outputs": [],
   "source": [
    "GBoost.fit(train, y_train)\n",
    "gb_train_pred = GBoost.predict(train)"
   ]
  },
  {
   "cell_type": "code",
   "execution_count": 85,
   "metadata": {},
   "outputs": [],
   "source": [
    "gb_pred = (GBoost.predict(test.values))"
   ]
  },
  {
   "cell_type": "code",
   "execution_count": 86,
   "metadata": {},
   "outputs": [
    {
     "name": "stdout",
     "output_type": "stream",
     "text": [
      "1.7306934682038493\n"
     ]
    }
   ],
   "source": [
    "print(rmsle(y_train, gb_train_pred))"
   ]
  },
  {
   "cell_type": "markdown",
   "metadata": {
    "scrolled": false
   },
   "source": [
    "# Stacking models\n",
    "Simplest Stacking approach : Averaging base models\n",
    "We begin with this simple approach of averaging base models. We build a new class to extend scikit-learn with our model and also to laverage encapsulation and code reuse (inheritance)\n",
    "\n",
    "Averaged base models class"
   ]
  },
  {
   "cell_type": "markdown",
   "metadata": {},
   "source": [
    "class AveragingModels(BaseEstimator, RegressorMixin, TransformerMixin):\n",
    "    def __init__(self, models):\n",
    "        self.models = models\n",
    "        \n",
    "    # we define clones of the original models to fit the data in\n",
    "    def fit(self, X, y):\n",
    "        self.models_ = [clone(x) for x in self.models]\n",
    "        \n",
    "        # Train cloned base models\n",
    "        for model in self.models_:\n",
    "            model.fit(X, y)\n",
    "\n",
    "        return self\n",
    "    \n",
    "    #Now we do the predictions for cloned models and average them\n",
    "    def predict(self, X):\n",
    "        predictions = np.column_stack([\n",
    "            model.predict(X) for model in self.models_\n",
    "        ])\n",
    "        return np.mean(predictions, axis=1)"
   ]
  },
  {
   "cell_type": "markdown",
   "metadata": {},
   "source": [
    "# Averaged base models score\n",
    "\n",
    "We just average four models here ENet, GBoost, KRR and lasso. Of course we could easily add more models in the mix."
   ]
  },
  {
   "cell_type": "markdown",
   "metadata": {},
   "source": [
    "averaged_models = AveragingModels(models = (ENet, GBoost, KRR, lasso))"
   ]
  },
  {
   "cell_type": "markdown",
   "metadata": {},
   "source": [
    "score = rmsle_cv(averaged_models)\n",
    "print(\" Averaged base models score: {:.4f} ({:.4f})\\n\".format(score.mean(), score.std()))# Averaged base models score"
   ]
  },
  {
   "cell_type": "markdown",
   "metadata": {},
   "source": [
    "# Stacking averaged Models Class"
   ]
  },
  {
   "cell_type": "markdown",
   "metadata": {},
   "source": [
    "class StackingAveragedModels(BaseEstimator, RegressorMixin, TransformerMixin):\n",
    "    def __init__(self, base_models, meta_model, n_folds=5):\n",
    "        self.base_models = base_models\n",
    "        self.meta_model = meta_model\n",
    "        self.n_folds = n_folds\n",
    "   \n",
    "    # We again fit the data on clones of the original models\n",
    "    def fit(self, X, y):\n",
    "        self.base_models_ = [list() for x in self.base_models]\n",
    "        self.meta_model_ = clone(self.meta_model)\n",
    "        kfold = KFold(n_splits=self.n_folds, shuffle=True, random_state=156)\n",
    "        \n",
    "        # Train cloned base models then create out-of-fold predictions\n",
    "        # that are needed to train the cloned meta-model\n",
    "        out_of_fold_predictions = np.zeros((X.shape[0], len(self.base_models)))\n",
    "        for i, model in enumerate(self.base_models):\n",
    "            for train_index, holdout_index in kfold.split(X, y):\n",
    "                instance = clone(model)\n",
    "                self.base_models_[i].append(instance)\n",
    "                instance.fit(X[train_index], y[train_index])\n",
    "                y_pred = instance.predict(X[holdout_index])\n",
    "                out_of_fold_predictions[holdout_index, i] = y_pred\n",
    "                \n",
    "        # Now train the cloned  meta-model using the out-of-fold predictions as new feature\n",
    "        self.meta_model_.fit(out_of_fold_predictions, y)\n",
    "        return self\n",
    "   \n",
    "    #Do the predictions of all base models on the test data and use the averaged predictions as \n",
    "    #meta-features for the final prediction which is done by the meta-model\n",
    "    def predict(self, X):\n",
    "        meta_features = np.column_stack([\n",
    "            np.column_stack([model.predict(X) for model in base_models]).mean(axis=1)\n",
    "            for base_models in self.base_models_ ])\n",
    "        return self.meta_model_.predict(meta_features)"
   ]
  },
  {
   "cell_type": "markdown",
   "metadata": {},
   "source": [
    "To make the two approaches comparable (by using the same number of models) , we just average Enet KRR and Gboost, then we add lasso as meta-model."
   ]
  },
  {
   "cell_type": "markdown",
   "metadata": {},
   "source": [
    "stacked_averaged_models = StackingAveragedModels(base_models = (ENet, KRR,GBoost),\n",
    "                                                 meta_model = lasso)"
   ]
  },
  {
   "cell_type": "markdown",
   "metadata": {},
   "source": [
    "# Ensembling StackedRegressor, XGBoost and Gradient"
   ]
  },
  {
   "cell_type": "markdown",
   "metadata": {},
   "source": [
    "Final Training and Prediction"
   ]
  },
  {
   "cell_type": "markdown",
   "metadata": {},
   "source": [
    "# StackedRegressor:"
   ]
  },
  {
   "cell_type": "markdown",
   "metadata": {
    "scrolled": true
   },
   "source": [
    "stacked_averaged_models.fit(train.values, y_train)\n",
    "stacked_train_pred = stacked_averaged_models.predict(train.values)"
   ]
  },
  {
   "cell_type": "markdown",
   "metadata": {},
   "source": [
    "stacked_pred = (stacked_averaged_models.predict(test.values))"
   ]
  },
  {
   "cell_type": "markdown",
   "metadata": {
    "scrolled": false
   },
   "source": [
    "print(rmsle(y_train, stacked_train_pred))"
   ]
  },
  {
   "cell_type": "markdown",
   "metadata": {
    "colab": {},
    "colab_type": "code",
    "id": "WCs9o0xt3Zfi"
   },
   "source": [
    "fee_stacked_pred = pd.DataFrame(stacked_pred)"
   ]
  },
  {
   "cell_type": "markdown",
   "metadata": {
    "colab": {},
    "colab_type": "code",
    "id": "WCs9o0xt3Zfi"
   },
   "source": [
    "fee_stacked_pred.to_excel('fee_test_reslt_stacked.xlsx')"
   ]
  },
  {
   "cell_type": "markdown",
   "metadata": {
    "scrolled": false
   },
   "source": [
    "# XGBoost : :"
   ]
  },
  {
   "cell_type": "code",
   "execution_count": 129,
   "metadata": {},
   "outputs": [],
   "source": [
    "model_xgb = xgb.XGBRegressor(colsample_bytree=0.52, gamma=0.03, \n",
    "                             learning_rate=0.072, max_depth=6, \n",
    "                             min_child_weight=2, n_estimators=2200,\n",
    "                             reg_alpha=0, reg_lambda=1,\n",
    "                             subsample=0.615, silent=1,\n",
    "                             random_state =7, nthread = -1)"
   ]
  },
  {
   "cell_type": "markdown",
   "metadata": {},
   "source": [
    "model_xgb = xgb.XGBRegressor(colsample_bytree=0.5, gamma=0.03, \n",
    "                             learning_rate=0.07, max_depth=5, \n",
    "                             min_child_weight=2, n_estimators=2200,\n",
    "                             reg_alpha=0, reg_lambda=1,\n",
    "                             subsample=0.65, silent=1,\n",
    "                             random_state =7, nthread = -1)"
   ]
  },
  {
   "cell_type": "code",
   "execution_count": 130,
   "metadata": {
    "scrolled": true
   },
   "outputs": [
    {
     "name": "stdout",
     "output_type": "stream",
     "text": [
      "0.3112781978405923\n"
     ]
    }
   ],
   "source": [
    "model_xgb.fit(train, y_train)\n",
    "xgb_train_pred = model_xgb.predict(train)\n",
    "xgb_pred = model_xgb.predict(test)\n",
    "print(rmsle(y_train, xgb_train_pred))"
   ]
  },
  {
   "cell_type": "code",
   "execution_count": 131,
   "metadata": {
    "colab": {},
    "colab_type": "code",
    "id": "WCs9o0xt3Zfi"
   },
   "outputs": [],
   "source": [
    "price_XG_pred = pd.DataFrame(xgb_pred)"
   ]
  },
  {
   "cell_type": "code",
   "execution_count": 90,
   "metadata": {
    "colab": {},
    "colab_type": "code",
    "id": "WCs9o0xt3Zfi",
    "scrolled": true
   },
   "outputs": [],
   "source": [
    "price_XG_pred.to_excel('price_test_reslt_xgb1.xlsx')"
   ]
  },
  {
   "cell_type": "markdown",
   "metadata": {
    "scrolled": false
   },
   "source": [
    "# XGBoost : : Grid Search"
   ]
  },
  {
   "cell_type": "markdown",
   "metadata": {
    "scrolled": true
   },
   "source": [
    "xgb_gs_reg = xgb.XGBRegressor(random_state =7, nthread = -1,\n",
    "                             eval_metric=\"rmse\")                         \n",
    "                        \n",
    "param_grid = {\"max_depth\": [5,7],\n",
    "              \"n_estimators\": [1500,2000] , \n",
    "              \"gamma\": [0.03,0.05], \n",
    "              \"learning_rate\": [0.06,0.08],\n",
    "              \"min_child_weight\": [2,5], \n",
    "              \"colsample_bytree\": [0.4,0.8], \n",
    "              \"subsample\": [0.50,0.85]} \n",
    "\n",
    "grid_search = GridSearchCV(xgb_gs_reg, \n",
    "                           param_grid=param_grid,\n",
    "                           cv = 2,\n",
    "                           n_jobs=-1,\n",
    "                           scoring='neg_mean_squared_error',\n",
    "                           verbose=2)\n",
    "grid_search.fit(train,y_train)"
   ]
  },
  {
   "cell_type": "markdown",
   "metadata": {},
   "source": [
    "print(grid_search.best_params_)"
   ]
  },
  {
   "cell_type": "markdown",
   "metadata": {},
   "source": [
    "xgb_gs_train_pred = grid_search.predict(train)\n",
    "xgb_gs_pred = grid_search.predict(test)\n",
    "print(rmsle(y_train, xgb_gs_train_pred))"
   ]
  },
  {
   "cell_type": "markdown",
   "metadata": {
    "colab": {},
    "colab_type": "code",
    "id": "WCs9o0xt3Zfi"
   },
   "source": [
    "fee_pred_xg_gs = pd.DataFrame(xgb_gs_pred)"
   ]
  },
  {
   "cell_type": "markdown",
   "metadata": {
    "scrolled": false
   },
   "source": [
    "# Light GBM : :"
   ]
  },
  {
   "cell_type": "markdown",
   "metadata": {},
   "source": [
    "model_lgb = lgb.LGBMRegressor(objective='regression',num_leaves=31,\n",
    "                              learning_rate=0.055, n_estimators=2800,feature_fraction = 0.75,\n",
    "                              feature_fraction_seed=9,min_data_in_leaf =15\n",
    "                                                         \n",
    "                              )"
   ]
  },
  {
   "cell_type": "code",
   "execution_count": 91,
   "metadata": {},
   "outputs": [],
   "source": [
    "model_lgb = lgb.LGBMRegressor(objective='regression',num_leaves=31,\n",
    "                              learning_rate=0.05, n_estimators=2800,feature_fraction = 0.75,\n",
    "                              feature_fraction_seed=9,min_data_in_leaf =15\n",
    "                                                         \n",
    "                              )"
   ]
  },
  {
   "cell_type": "code",
   "execution_count": 92,
   "metadata": {},
   "outputs": [],
   "source": [
    "model_lgb.fit(train, y_train)\n",
    "lgb_train_pred = model_lgb.predict(train)"
   ]
  },
  {
   "cell_type": "code",
   "execution_count": 93,
   "metadata": {
    "scrolled": false
   },
   "outputs": [
    {
     "name": "stdout",
     "output_type": "stream",
     "text": [
      "0.33650575458555665\n"
     ]
    }
   ],
   "source": [
    "print(rmsle(y_train, lgb_train_pred))"
   ]
  },
  {
   "cell_type": "code",
   "execution_count": 94,
   "metadata": {},
   "outputs": [],
   "source": [
    "lgb_pred = model_lgb.predict(test.values)"
   ]
  },
  {
   "cell_type": "code",
   "execution_count": 95,
   "metadata": {
    "colab": {},
    "colab_type": "code",
    "id": "WCs9o0xt3Zfi"
   },
   "outputs": [],
   "source": [
    "price_pred_lgb = pd.DataFrame(lgb_pred)"
   ]
  },
  {
   "cell_type": "code",
   "execution_count": 96,
   "metadata": {
    "colab": {},
    "colab_type": "code",
    "id": "WCs9o0xt3Zfi"
   },
   "outputs": [],
   "source": [
    "price_pred_lgb.to_excel('price_test_reslt_lgbm.xlsx')"
   ]
  },
  {
   "cell_type": "markdown",
   "metadata": {
    "scrolled": false
   },
   "source": [
    "#  Grid Search"
   ]
  },
  {
   "cell_type": "markdown",
   "metadata": {
    "scrolled": true
   },
   "source": [
    "lgb_gs_reg = lgb.LGBMRegressor(boosting_type='gbdt',random_state =7, nthread = -1,objective='regression',\n",
    "                             eval_metric=\"l1\")                         \n",
    "                        \n",
    "param_grid = {\n",
    "              \"n_estimators\": [1500,2000] , \n",
    "              \"feature_fraction\": [0.5,1.0], \n",
    "              \"learning_rate\": [0.06,0.08],\n",
    "              \"bagging_fraction\": [0.75,0.95], \n",
    "              \"reg_alpha\": [0.1,0.5],\n",
    "              'num_leaves': [31, 127]\n",
    "              } \n",
    "\n",
    "grid_search = GridSearchCV(lgb_gs_reg, \n",
    "                           param_grid=param_grid,\n",
    "                           cv = 2,\n",
    "                           n_jobs=-1,\n",
    "                           scoring='neg_mean_squared_error',\n",
    "                           verbose=2)\n",
    "grid_search.fit(train,y_train)"
   ]
  },
  {
   "cell_type": "markdown",
   "metadata": {},
   "source": [
    "print(grid_search.best_params_)"
   ]
  },
  {
   "cell_type": "markdown",
   "metadata": {},
   "source": [
    "lgb_gs_train_pred = grid_search.predict(train)\n",
    "lgb_gs_pred = grid_search.predict(test)\n",
    "print(rmsle(y_train, lgb_gs_train_pred))"
   ]
  },
  {
   "cell_type": "markdown",
   "metadata": {},
   "source": [
    "# Ensemble prediction:"
   ]
  },
  {
   "cell_type": "code",
   "execution_count": 132,
   "metadata": {},
   "outputs": [],
   "source": [
    "ens_train =  xgb_train_pred*0.4 + lgb_train_pred*0.3 + gb_train_pred*0.3"
   ]
  },
  {
   "cell_type": "code",
   "execution_count": 133,
   "metadata": {
    "colab": {},
    "colab_type": "code",
    "id": "WCs9o0xt3Zfi"
   },
   "outputs": [],
   "source": [
    "ens_train_pd = pd.DataFrame(ens_train)"
   ]
  },
  {
   "cell_type": "code",
   "execution_count": 134,
   "metadata": {
    "colab": {},
    "colab_type": "code",
    "id": "WCs9o0xt3Zfi"
   },
   "outputs": [],
   "source": [
    "ens_train_pd.to_excel('ens_train_pd.xlsx')"
   ]
  },
  {
   "cell_type": "code",
   "execution_count": 135,
   "metadata": {
    "scrolled": true
   },
   "outputs": [
    {
     "name": "stdout",
     "output_type": "stream",
     "text": [
      "RMSLE score on train data:\n",
      "0.6435395904670304\n"
     ]
    }
   ],
   "source": [
    "\n",
    "'''RMSE on the entire Train data when averaging'''\n",
    "\n",
    "print('RMSLE score on train data:')\n",
    "print(rmsle(y_train,xgb_train_pred*0.4 + lgb_train_pred*0.3 + gb_train_pred*0.3 ))"
   ]
  },
  {
   "cell_type": "code",
   "execution_count": 136,
   "metadata": {},
   "outputs": [],
   "source": [
    "#ensemble = stacked_pred*0.4 + xgb_pred*0.3 + gb_pred*0.3-->73\n",
    "\n",
    "ensemble =  xgb_pred*0.4 + lgb_pred*0.3 + gb_pred*0.3"
   ]
  },
  {
   "cell_type": "code",
   "execution_count": 137,
   "metadata": {
    "scrolled": true
   },
   "outputs": [
    {
     "data": {
      "text/plain": [
       "array([ 2.67527048,  3.12451904, 17.45685636, ...,  3.1138678 ,\n",
       "        5.09248174, 16.74043854])"
      ]
     },
     "execution_count": 137,
     "metadata": {},
     "output_type": "execute_result"
    }
   ],
   "source": [
    "ensemble"
   ]
  },
  {
   "cell_type": "code",
   "execution_count": 138,
   "metadata": {
    "colab": {},
    "colab_type": "code",
    "id": "WCs9o0xt3Zfi"
   },
   "outputs": [],
   "source": [
    "price_pred_ensb = pd.DataFrame(ensemble)"
   ]
  },
  {
   "cell_type": "code",
   "execution_count": 139,
   "metadata": {
    "colab": {},
    "colab_type": "code",
    "id": "WCs9o0xt3Zfi",
    "scrolled": true
   },
   "outputs": [],
   "source": [
    "price_pred_ensb.to_excel('price_test_reslt_ensb1.xlsx')"
   ]
  },
  {
   "cell_type": "code",
   "execution_count": null,
   "metadata": {},
   "outputs": [],
   "source": []
  },
  {
   "cell_type": "code",
   "execution_count": null,
   "metadata": {},
   "outputs": [],
   "source": []
  },
  {
   "cell_type": "code",
   "execution_count": null,
   "metadata": {},
   "outputs": [],
   "source": []
  }
 ],
 "metadata": {
  "kernelspec": {
   "display_name": "Python 3",
   "language": "python",
   "name": "python3"
  },
  "language_info": {
   "codemirror_mode": {
    "name": "ipython",
    "version": 3
   },
   "file_extension": ".py",
   "mimetype": "text/x-python",
   "name": "python",
   "nbconvert_exporter": "python",
   "pygments_lexer": "ipython3",
   "version": "3.6.5"
  }
 },
 "nbformat": 4,
 "nbformat_minor": 2
}
